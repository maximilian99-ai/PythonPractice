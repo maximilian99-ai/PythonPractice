{
 "cells": [
  {
   "cell_type": "code",
   "execution_count": 1,
   "metadata": {},
   "outputs": [
    {
     "name": "stdout",
     "output_type": "stream",
     "text": [
      "<class 'int'>\n",
      "<class 'float'>\n",
      "<class 'str'>\n"
     ]
    }
   ],
   "source": [
    "# 기본 자료형(다음 변수들의 자료형을 출력하기)\n",
    "digit1 = 10\n",
    "digit2 = 2.2\n",
    "string1 = \"fun-coding\"\n",
    "\n",
    "print(type(digit1))\n",
    "print(type(digit2))\n",
    "print(type(string1))"
   ]
  },
  {
   "cell_type": "code",
   "execution_count": 3,
   "metadata": {},
   "outputs": [
    {
     "name": "stdout",
     "output_type": "stream",
     "text": [
      "100\n"
     ]
    }
   ],
   "source": [
    "# 조건문(사용자로부터 두 개의 숫자를 입력받아 큰 숫자를 화면에 출력)\n",
    "digit1 = input()\n",
    "digit2 = input()\n",
    "\n",
    "result1 = int(digit1)\n",
    "result2 = int(digit2)\n",
    "\n",
    "if result1 > result2:\n",
    "  print(result1)\n",
    "else:\n",
    "  print(result2)"
   ]
  },
  {
   "cell_type": "code",
   "execution_count": 4,
   "metadata": {},
   "outputs": [
    {
     "name": "stdout",
     "output_type": "stream",
     "text": [
      "even\n"
     ]
    }
   ],
   "source": [
    "# 사용자로부터 입력받은 숫자가 홀수인지 짝수인지 출력\n",
    "digit = input()\n",
    "\n",
    "result = int(digit)\n",
    "\n",
    "if result % 2 == 0:\n",
    "  print(\"even\")\n",
    "else:\n",
    "  print(\"odd\")"
   ]
  }
 ],
 "metadata": {
  "interpreter": {
   "hash": "4cd7ab41f5fca4b9b44701077e38c5ffd31fe66a6cab21e0214b68d958d0e462"
  },
  "kernelspec": {
   "display_name": "Python 3.6.8 64-bit",
   "name": "python3"
  },
  "language_info": {
   "codemirror_mode": {
    "name": "ipython",
    "version": 3
   },
   "file_extension": ".py",
   "mimetype": "text/x-python",
   "name": "python",
   "nbconvert_exporter": "python",
   "pygments_lexer": "ipython3",
   "version": "3.6.8"
  },
  "orig_nbformat": 4
 },
 "nbformat": 4,
 "nbformat_minor": 2
}
