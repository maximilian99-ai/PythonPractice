{
 "cells": [
  {
   "cell_type": "code",
   "execution_count": 1,
   "metadata": {},
   "outputs": [
    {
     "name": "stdout",
     "output_type": "stream",
     "text": [
      "a, e\n"
     ]
    }
   ],
   "source": [
    "# a, b, c, d, e를 저장하는 튜플을 만들고 첫 번째 튜플 값과 마지막 튜플 값을 출력\n",
    "data = (\"a,\", \"b\", \"c\", \"d\", \"e\")\n",
    "print(data[0], data[4])"
   ]
  },
  {
   "cell_type": "code",
   "execution_count": 2,
   "metadata": {},
   "outputs": [
    {
     "data": {
      "text/plain": [
       "('fun-coding2', 'fun-coding3', 'fun-coding4', 'fun-coding5')"
      ]
     },
     "execution_count": 2,
     "metadata": {},
     "output_type": "execute_result"
    }
   ],
   "source": [
    "# 다음 코드에서 두 번째 데이터부터 마지막 데이터를 출력\n",
    "tupledata = ('fun-coding1', 'fun-coding2', 'fun-coding3', 'fun-coding4', 'fun-coding5')\n",
    "tupledata[1:]"
   ]
  },
  {
   "cell_type": "code",
   "execution_count": 3,
   "metadata": {},
   "outputs": [
    {
     "name": "stdout",
     "output_type": "stream",
     "text": [
      "('fun-coding1', 'fun-coding2', 'fun-coding3', 'fun-coding4')\n"
     ]
    }
   ],
   "source": [
    "# 다음 튜플 데이터를 리스트 데이터로 변환한 후에 'fun-coding4' 데이터를 마지막에 추가하고 다시 튜플 데이터로 변환\n",
    "tupledata = ('fun-coding1', 'fun-coding2', 'fun-coding3')\n",
    "listdata = list(tupledata)\n",
    "listdata.append('fun-coding4')\n",
    "print(tuple(listdata))"
   ]
  }
 ],
 "metadata": {
  "interpreter": {
   "hash": "aee8b7b246df8f9039afb4144a1f6fd8d2ca17a180786b69acc140d282b71a49"
  },
  "kernelspec": {
   "display_name": "Python 3.6.8 64-bit",
   "language": "python",
   "name": "python3"
  },
  "language_info": {
   "codemirror_mode": {
    "name": "ipython",
    "version": 3
   },
   "file_extension": ".py",
   "mimetype": "text/x-python",
   "name": "python",
   "nbconvert_exporter": "python",
   "pygments_lexer": "ipython3",
   "version": "3.6.8"
  },
  "orig_nbformat": 4
 },
 "nbformat": 4,
 "nbformat_minor": 2
}
