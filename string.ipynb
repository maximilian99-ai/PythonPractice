{
 "cells": [
  {
   "cell_type": "code",
   "execution_count": 1,
   "metadata": {},
   "outputs": [
    {
     "name": "stdout",
     "output_type": "stream",
     "text": [
      " a man goes into the room\n"
     ]
    }
   ],
   "source": [
    "# 문자열 다루기 (strip). 다음 문자열에서 '...'을 제거하기\n",
    "mystr = \" a man goes into the room...\"\n",
    "\n",
    "print(mystr.strip(\".\"))"
   ]
  },
  {
   "cell_type": "code",
   "execution_count": 2,
   "metadata": {},
   "outputs": [
    {
     "name": "stdout",
     "output_type": "stream",
     "text": [
      "00600\n"
     ]
    }
   ],
   "source": [
    "# 문자열 다루기 (strip). 주식 종목을 나타내는 종목코드에 공백과 줄바꿈 기호를 제거하고 종목코드만 출력\n",
    "code = \" 00600\\n \"\n",
    "\n",
    "print(code.strip(\" \\n \"))"
   ]
  },
  {
   "cell_type": "code",
   "execution_count": 3,
   "metadata": {},
   "outputs": [
    {
     "name": "stdout",
     "output_type": "stream",
     "text": [
      "2\n"
     ]
    }
   ],
   "source": [
    "# 문자열 다루기(count). 다음 문자열에서 'Python' 문자열의 빈도수를 출력\n",
    "python_desc = \"Python is an interpreted high-level programming language for general-purpose programming. Created by Guido van Rossum and first released in 1991, Python has a design philosophy that emphasizes code readability, notably using significant whitespace.\"\n",
    "\n",
    "print(python_desc.count(\"Python\"))"
   ]
  },
  {
   "cell_type": "code",
   "execution_count": 4,
   "metadata": {},
   "outputs": [
    {
     "name": "stdout",
     "output_type": "stream",
     "text": [
      "y\n",
      "h\n"
     ]
    }
   ],
   "source": [
    "# 문자열 다루기(문자열 인덱싱). letters라는 변수에 들어있는 문자열에서 두 번째와 네 번째 문자를 출력\n",
    "letters = \"python\"\n",
    "\n",
    "print(letters[1])\n",
    "print(letters[3])"
   ]
  },
  {
   "cell_type": "code",
   "execution_count": 5,
   "metadata": {},
   "outputs": [
    {
     "name": "stdout",
     "output_type": "stream",
     "text": [
      "0\n"
     ]
    }
   ],
   "source": [
    "# 문자열 다루기(문자열 인덱싱). letters라는 변수에 문자열을 입력받아서 문자 n이 들어있는지 출력\n",
    "letters = input(\"tap in any string: \")\n",
    "\n",
    "if letters.find(\"n\") >= 0:\n",
    "  print(\"0\")\n",
    "else:\n",
    "  print(\"-1\")"
   ]
  },
  {
   "cell_type": "code",
   "execution_count": 6,
   "metadata": {},
   "outputs": [
    {
     "name": "stdout",
     "output_type": "stream",
     "text": [
      "서울\n"
     ]
    }
   ],
   "source": [
    "# 문자열 다루기(문자열 인덱싱)와 조건문. 주민등록번호를 입력받은 후 출생지를 출력\n",
    "pin = \"991002-1012232\"\n",
    "\n",
    "pin = int(pin[8:10])\n",
    "\n",
    "if pin >= 0 and pin <= 8:\n",
    "  print(\"서울\")\n",
    "elif pin >= 9 and pin <= 12:\n",
    "  print(\"부산\")"
   ]
  },
  {
   "cell_type": "code",
   "execution_count": 7,
   "metadata": {},
   "outputs": [
    {
     "name": "stdout",
     "output_type": "stream",
     "text": [
      "['Dave', ' David', ' Andy']\n"
     ]
    }
   ],
   "source": [
    "# 문자열 다루기(split). letters라는 변수에 Dave, David, Andy가 들어있다. 해당 변수값을 ,를 기준으로 분리해서 출력\n",
    "letters = \"Dave, David, Andy\"\n",
    "\n",
    "result = letters.split(\",\")\n",
    "\n",
    "print(result)"
   ]
  }
 ],
 "metadata": {
  "interpreter": {
   "hash": "949777d72b0d2535278d3dc13498b2535136f6dfe0678499012e853ee9abcab1"
  },
  "kernelspec": {
   "display_name": "Python 3.6.8 64-bit",
   "language": "python",
   "name": "python3"
  },
  "language_info": {
   "codemirror_mode": {
    "name": "ipython",
    "version": 3
   },
   "file_extension": ".py",
   "mimetype": "text/x-python",
   "name": "python",
   "nbconvert_exporter": "python",
   "pygments_lexer": "ipython3",
   "version": "3.6.8"
  },
  "orig_nbformat": 4
 },
 "nbformat": 4,
 "nbformat_minor": 2
}
