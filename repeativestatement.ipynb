{
 "cells": [
  {
   "cell_type": "code",
   "execution_count": 1,
   "metadata": {},
   "outputs": [
    {
     "name": "stdout",
     "output_type": "stream",
     "text": [
      "55\n"
     ]
    }
   ],
   "source": [
    "# 1 ~ 10까지 숫자에 대해 모두 더한 값을 출력하는 프로그램을 for문을 사용하여 작성\n",
    "sum = 0\n",
    "\n",
    "for num in range(1, 11):\n",
    "  sum += num\n",
    "print(sum)"
   ]
  },
  {
   "cell_type": "code",
   "execution_count": 2,
   "metadata": {},
   "outputs": [
    {
     "name": "stdout",
     "output_type": "stream",
     "text": [
      "9 ✖️ 1 = 9\n",
      "9 ✖️ 2 = 18\n",
      "9 ✖️ 3 = 27\n",
      "9 ✖️ 4 = 36\n",
      "9 ✖️ 5 = 45\n",
      "9 ✖️ 6 = 54\n",
      "9 ✖️ 7 = 63\n",
      "9 ✖️ 8 = 72\n",
      "9 ✖️ 9 = 81\n"
     ]
    }
   ],
   "source": [
    "# 사용자로부터 2 ~ 9 사이의 숫자를 입력받은 후, 해당 숫자에 대한 구구단을 출력\n",
    "digit = input(\"tab in number 2~9: \")\n",
    "\n",
    "for num in range(1, 10):\n",
    "  result = int(digit) * num\n",
    "  print(digit,\"✖️\", num, \"=\", result)"
   ]
  },
  {
   "cell_type": "code",
   "execution_count": 3,
   "metadata": {},
   "outputs": [
    {
     "name": "stdout",
     "output_type": "stream",
     "text": [
      " Dave\n",
      " David\n",
      " Andy\n",
      " Arthor\n"
     ]
    }
   ],
   "source": [
    "# 반복문과 문자열 다루기(split). 사용자로부터 ,로 구분된 여러 이름을 입력받아서 한 줄에 하나씩 이름을 출력\n",
    "name = input(\"tab in names: \")\n",
    "\n",
    "for string in name.split(\",\"):\n",
    "  print(string)"
   ]
  },
  {
   "cell_type": "code",
   "execution_count": 4,
   "metadata": {},
   "outputs": [
    {
     "name": "stdout",
     "output_type": "stream",
     "text": [
      "3\n",
      "6\n",
      "9\n",
      "12\n",
      "15\n",
      "18\n",
      "21\n",
      "24\n",
      "27\n",
      "30\n"
     ]
    }
   ],
   "source": [
    "# 반복문과 조건문. 1 ~ 30까지의 숫자 중 3의 배수만 출력\n",
    "for num in range(1, 31):\n",
    "  if num % 3 == 0:\n",
    "    print(num)"
   ]
  },
  {
   "cell_type": "code",
   "execution_count": 5,
   "metadata": {},
   "outputs": [
    {
     "name": "stdout",
     "output_type": "stream",
     "text": [
      "5050\n"
     ]
    }
   ],
   "source": [
    "# 1 ~ 100까지 숫자를 모두 더한 값을 출력\n",
    "sum = 0\n",
    "num = 1\n",
    "\n",
    "while num < 101:\n",
    "  sum += num\n",
    "  num += 1\n",
    "print(sum)"
   ]
  }
 ],
 "metadata": {
  "interpreter": {
   "hash": "949777d72b0d2535278d3dc13498b2535136f6dfe0678499012e853ee9abcab1"
  },
  "kernelspec": {
   "display_name": "Python 3.6.8 64-bit",
   "language": "python",
   "name": "python3"
  },
  "language_info": {
   "codemirror_mode": {
    "name": "ipython",
    "version": 3
   },
   "file_extension": ".py",
   "mimetype": "text/x-python",
   "name": "python",
   "nbconvert_exporter": "python",
   "pygments_lexer": "ipython3",
   "version": "3.6.8"
  },
  "orig_nbformat": 4
 },
 "nbformat": 4,
 "nbformat_minor": 2
}
