{
 "cells": [
  {
   "cell_type": "code",
   "execution_count": 1,
   "metadata": {},
   "outputs": [
    {
     "name": "stdout",
     "output_type": "stream",
     "text": [
      "The password is wrong.\n",
      "The password is correct.\n"
     ]
    }
   ],
   "source": [
    "# 반복문. 사용자로부터 4자리의 숫자로 구성된 데이터를 입력받아서 비밀번호와 같으면 '비밀번호가 맞습니다'를 출력해서 종료하고 \n",
    "# 다르면 '비밀번호가 틀렸습니다'를 출력하고 다시 사용자로부터 데이터를 입력받기\n",
    "password = 4312\n",
    "data = str()\n",
    "\n",
    "while data != password:\n",
    "  data = input(\"tab in password: \")\n",
    "  if int(data) == password:\n",
    "    print(\"The password is correct.\")\n",
    "    break\n",
    "  else:\n",
    "    print(\"The password is wrong.\")"
   ]
  },
  {
   "cell_type": "code",
   "execution_count": 2,
   "metadata": {},
   "outputs": [
    {
     "name": "stdout",
     "output_type": "stream",
     "text": [
      "[0, 31, 22, 33, 64]\n"
     ]
    }
   ],
   "source": [
    "# 데이터 구조와 반복문(리스트). 다음 리스트 변수에서 음수를 삭제하고, 양수만 가진 리스트 변수를 만들고 출력\n",
    "num_list = [0, -11, 31, 22, 33, -44, -55, 64]\n",
    "result = []\n",
    "\n",
    "for index, num in enumerate(num_list):\n",
    "  if num >= 0:\n",
    "    result.append(num)\n",
    "    num_list = result\n",
    "\n",
    "print(num_list)"
   ]
  },
  {
   "cell_type": "code",
   "execution_count": 3,
   "metadata": {},
   "outputs": [
    {
     "name": "stdout",
     "output_type": "stream",
     "text": [
      "fun-coding\n",
      "Dave\n",
      "Linux\n",
      "Python\n",
      "JavaScript\n",
      "front-end\n",
      "back-end\n",
      "DataEngineering\n"
     ]
    }
   ],
   "source": [
    "# 다음 리스트에 있는 데이터의 길이를 한 라인에 하나씩 출력\n",
    "list_data = [\"fun-coding\", \"Dave\", \"Linux\", \"Python\", \"JavaScript\", \"front-end\", \"back-end\", \"DataEngineering\"]\n",
    "\n",
    "for data in list_data:\n",
    "  print(data)"
   ]
  },
  {
   "cell_type": "code",
   "execution_count": 4,
   "metadata": {},
   "outputs": [
    {
     "name": "stdout",
     "output_type": "stream",
     "text": [
      "10\n",
      "9\n",
      "8\n",
      "7\n",
      "6\n",
      "5\n",
      "4\n",
      "3\n",
      "2\n",
      "1\n"
     ]
    }
   ],
   "source": [
    "# 다음 리스트에 있는 숫자를 역 방향으로 한 라인에 하나씩 출력\n",
    "data = [1, 2, 3, 4, 5, 6, 7, 8, 9, 10]\n",
    "data.reverse()\n",
    "\n",
    "for index in data:\n",
    "  print(index)"
   ]
  },
  {
   "cell_type": "code",
   "execution_count": 5,
   "metadata": {},
   "outputs": [
    {
     "name": "stdout",
     "output_type": "stream",
     "text": [
      "exercise01\n",
      "exercise02\n",
      "exercise03\n",
      "exercise04\n",
      "exercise05\n"
     ]
    }
   ],
   "source": [
    "# 데이터 구조와 반복문(리스트), 반복문, 문자열 다루기. 다음과 같이 파일 이름을 저장하고 있는 리스트가 있을 때 확장자를 제거하고 파일 이름만 출력\n",
    "filelist = ['exercise01.docx', 'exercise02.docx', 'exercise03.docx', 'exercise04.docx', 'exercise05.docx']\n",
    "\n",
    "for filename in filelist:\n",
    "    print(filename.split('.')[0])"
   ]
  },
  {
   "cell_type": "code",
   "execution_count": 6,
   "metadata": {},
   "outputs": [
    {
     "name": "stdout",
     "output_type": "stream",
     "text": [
      "exercise03.txt\n"
     ]
    }
   ],
   "source": [
    "# 데이터 구조와 반복문(리스트), 반복문, 문자열 다루기. 파일 이름이 다음과 같은 리스트에 자장되어 있을 때 확장자가 .txt인 파일에 대한 리스트 출력\n",
    "filelist = ['exercise01.docx', 'exercise02.csv', 'exercise03.txt', 'exercise04.hwp']\n",
    "\n",
    "for filename in filelist:\n",
    "  if filename.split(\".\")[1] == \"txt\":\n",
    "    print(filename)"
   ]
  },
  {
   "cell_type": "code",
   "execution_count": 7,
   "metadata": {},
   "outputs": [
    {
     "name": "stdout",
     "output_type": "stream",
     "text": [
      "121200 원\n"
     ]
    }
   ],
   "source": [
    "# 문자열 다루기와 조건문. price 변수에 입력된 값을 원 화로 바꿔서 계산\n",
    "prices = '100 달러'\n",
    "price = prices.split()\n",
    "print(int(price[0]) * 1212, \"원\")"
   ]
  },
  {
   "cell_type": "code",
   "execution_count": 8,
   "metadata": {},
   "outputs": [
    {
     "name": "stdout",
     "output_type": "stream",
     "text": [
      "135000 원\n"
     ]
    }
   ],
   "source": [
    "# 문자열 다루기와 조건문. 사용자로부터 달러 또는 유로 금액을 입력받은 후 이를 원으로 바꿔서 계산\n",
    "prices = '100 유로'\n",
    "price = prices.split()\n",
    "\n",
    "if price[1] == '달러':\n",
    "  print(int(price[0]) * 1212, \"원\")\n",
    "elif price[1] == '유로':\n",
    "  print(int(price[0]) * 1350, \"원\")"
   ]
  },
  {
   "cell_type": "code",
   "execution_count": 9,
   "metadata": {},
   "outputs": [
    {
     "name": "stdout",
     "output_type": "stream",
     "text": [
      "110000 원\n"
     ]
    }
   ],
   "source": [
    "# 문자열 다루기, 조건문, 데이터 구조(딕셔너리). 다음 통화별 환율을 통화 단위와 원화 환율을 가진 딕셔너리로 만들고 사용자로부터 달러, 유로, 엔 금액을\n",
    "# 입력받아 이를 원으로 바꿔서 계산\n",
    "exchange = {\"달러\": 1212, \"유로\": 1350, \"엔\": 1100}\n",
    "\n",
    "prices = input()\n",
    "price = prices.split()\n",
    "\n",
    "if price[1] == \"달러\" or price[1] == \"유로\" or price[1] == \"엔\":\n",
    "  print(int(price[0]) * exchange[price[1]], \"원\")"
   ]
  },
  {
   "cell_type": "code",
   "execution_count": 10,
   "metadata": {},
   "outputs": [
    {
     "name": "stdout",
     "output_type": "stream",
     "text": [
      "2 ✖️ 1 = 2\n",
      "2 ✖️ 2 = 4\n",
      "2 ✖️ 3 = 6\n",
      "2 ✖️ 4 = 8\n",
      "2 ✖️ 5 = 10\n",
      "2 ✖️ 6 = 12\n",
      "2 ✖️ 7 = 14\n",
      "2 ✖️ 8 = 16\n",
      "2 ✖️ 9 = 18\n",
      "3 ✖️ 1 = 3\n",
      "3 ✖️ 2 = 6\n",
      "3 ✖️ 3 = 9\n",
      "3 ✖️ 4 = 12\n",
      "3 ✖️ 5 = 15\n",
      "3 ✖️ 6 = 18\n",
      "3 ✖️ 7 = 21\n",
      "3 ✖️ 8 = 24\n",
      "3 ✖️ 9 = 27\n",
      "4 ✖️ 1 = 4\n",
      "4 ✖️ 2 = 8\n",
      "4 ✖️ 3 = 12\n",
      "4 ✖️ 4 = 16\n",
      "4 ✖️ 5 = 20\n",
      "4 ✖️ 6 = 24\n",
      "4 ✖️ 7 = 28\n",
      "4 ✖️ 8 = 32\n",
      "4 ✖️ 9 = 36\n",
      "5 ✖️ 1 = 5\n",
      "5 ✖️ 2 = 10\n",
      "5 ✖️ 3 = 15\n",
      "5 ✖️ 4 = 20\n",
      "5 ✖️ 5 = 25\n",
      "5 ✖️ 6 = 30\n",
      "5 ✖️ 7 = 35\n",
      "5 ✖️ 8 = 40\n",
      "5 ✖️ 9 = 45\n",
      "6 ✖️ 1 = 6\n",
      "6 ✖️ 2 = 12\n",
      "6 ✖️ 3 = 18\n",
      "6 ✖️ 4 = 24\n",
      "6 ✖️ 5 = 30\n",
      "6 ✖️ 6 = 36\n",
      "6 ✖️ 7 = 42\n",
      "6 ✖️ 8 = 48\n",
      "6 ✖️ 9 = 54\n",
      "7 ✖️ 1 = 7\n",
      "7 ✖️ 2 = 14\n",
      "7 ✖️ 3 = 21\n",
      "7 ✖️ 4 = 28\n",
      "7 ✖️ 5 = 35\n",
      "7 ✖️ 6 = 42\n",
      "7 ✖️ 7 = 49\n",
      "7 ✖️ 8 = 56\n",
      "7 ✖️ 9 = 63\n",
      "8 ✖️ 1 = 8\n",
      "8 ✖️ 2 = 16\n",
      "8 ✖️ 3 = 24\n",
      "8 ✖️ 4 = 32\n",
      "8 ✖️ 5 = 40\n",
      "8 ✖️ 6 = 48\n",
      "8 ✖️ 7 = 56\n",
      "8 ✖️ 8 = 64\n",
      "8 ✖️ 9 = 72\n",
      "9 ✖️ 1 = 9\n",
      "9 ✖️ 2 = 18\n",
      "9 ✖️ 3 = 27\n",
      "9 ✖️ 4 = 36\n",
      "9 ✖️ 5 = 45\n",
      "9 ✖️ 6 = 54\n",
      "9 ✖️ 7 = 63\n",
      "9 ✖️ 8 = 72\n",
      "9 ✖️ 9 = 81\n"
     ]
    }
   ],
   "source": [
    "# 이중 반복문. 구구단을 2 ~ 9단까지 출력\n",
    "for num1 in range(2, 10):\n",
    "  for num2 in range(1, 10):\n",
    "    result = num1 * num2\n",
    "    print(num1, \"✖️\", num2, \"=\", result)"
   ]
  },
  {
   "cell_type": "code",
   "execution_count": 11,
   "metadata": {},
   "outputs": [
    {
     "name": "stdout",
     "output_type": "stream",
     "text": [
      "6209동101호\n",
      "6209동102호\n",
      "6209동103호\n",
      "6209동104호\n",
      "6208동101호\n",
      "6208동102호\n",
      "6208동103호\n",
      "6208동104호\n",
      "6207동101호\n",
      "6207동102호\n",
      "6207동103호\n",
      "6207동104호\n"
     ]
    }
   ],
   "source": [
    "# 이중 반복문과 데이터 구조(리스트). 아파트 동호수를 각 동과 동 사이에 구분이 되도록 한 라인씩 띄워서 출력\n",
    "buildingNumber = [\"6209동\", \"6208동\", \"6207동\"]\n",
    "roomNumber = [\"101호\", \"102호\", \"103호\", \"104호\"]\n",
    "\n",
    "for dong in buildingNumber:\n",
    "  for ho in roomNumber:\n",
    "    result = dong + ho\n",
    "    print(result)"
   ]
  }
 ],
 "metadata": {
  "interpreter": {
   "hash": "aee8b7b246df8f9039afb4144a1f6fd8d2ca17a180786b69acc140d282b71a49"
  },
  "kernelspec": {
   "display_name": "Python 3.6.8 64-bit",
   "language": "python",
   "name": "python3"
  },
  "language_info": {
   "codemirror_mode": {
    "name": "ipython",
    "version": 3
   },
   "file_extension": ".py",
   "mimetype": "text/x-python",
   "name": "python",
   "nbconvert_exporter": "python",
   "pygments_lexer": "ipython3",
   "version": "3.6.8"
  },
  "orig_nbformat": 4
 },
 "nbformat": 4,
 "nbformat_minor": 2
}
