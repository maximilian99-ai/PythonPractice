{
 "cells": [
  {
   "cell_type": "code",
   "execution_count": 1,
   "source": [
    "money = True\n",
    "\n",
    "if money:\n",
    "  print(\"택시를 타고 가라\")\n",
    "else:\n",
    "  print(\"걸어 가라\")"
   ],
   "outputs": [
    {
     "output_type": "stream",
     "name": "stdout",
     "text": [
      "택시를 타고 가라\n"
     ]
    }
   ],
   "metadata": {}
  },
  {
   "cell_type": "code",
   "execution_count": 2,
   "source": [
    "x = 3\n",
    "y = 2\n",
    "x > y"
   ],
   "outputs": [
    {
     "output_type": "execute_result",
     "data": {
      "text/plain": [
       "True"
      ]
     },
     "metadata": {},
     "execution_count": 2
    }
   ],
   "metadata": {}
  },
  {
   "cell_type": "code",
   "execution_count": 3,
   "source": [
    "x < y"
   ],
   "outputs": [
    {
     "output_type": "execute_result",
     "data": {
      "text/plain": [
       "False"
      ]
     },
     "metadata": {},
     "execution_count": 3
    }
   ],
   "metadata": {}
  },
  {
   "cell_type": "code",
   "execution_count": 4,
   "source": [
    "x == y"
   ],
   "outputs": [
    {
     "output_type": "execute_result",
     "data": {
      "text/plain": [
       "False"
      ]
     },
     "metadata": {},
     "execution_count": 4
    }
   ],
   "metadata": {}
  },
  {
   "cell_type": "code",
   "execution_count": 5,
   "source": [
    "money = 2000\n",
    "\n",
    "if money >= 3000:\n",
    "  print(\"택시를 타고 가라\")\n",
    "else:\n",
    "  print(\"걸어 가라\")"
   ],
   "outputs": [
    {
     "output_type": "stream",
     "name": "stdout",
     "text": [
      "걸어 가라\n"
     ]
    }
   ],
   "metadata": {}
  },
  {
   "cell_type": "code",
   "execution_count": 6,
   "source": [
    "money = 2000\n",
    "card = True\n",
    "\n",
    "if money >= 3000 or card:\n",
    "  print(\"택시를 타고 가라\")\n",
    "else:\n",
    "  print(\"걸어 가라\")"
   ],
   "outputs": [
    {
     "output_type": "stream",
     "name": "stdout",
     "text": [
      "택시를 타고 가라\n"
     ]
    }
   ],
   "metadata": {}
  },
  {
   "cell_type": "code",
   "execution_count": 7,
   "source": [
    "1 in [1, 2, 3]"
   ],
   "outputs": [
    {
     "output_type": "execute_result",
     "data": {
      "text/plain": [
       "True"
      ]
     },
     "metadata": {},
     "execution_count": 7
    }
   ],
   "metadata": {}
  },
  {
   "cell_type": "code",
   "execution_count": 8,
   "source": [
    "1 not in [1, 2, 3]"
   ],
   "outputs": [
    {
     "output_type": "execute_result",
     "data": {
      "text/plain": [
       "False"
      ]
     },
     "metadata": {},
     "execution_count": 8
    }
   ],
   "metadata": {}
  },
  {
   "cell_type": "code",
   "execution_count": 9,
   "source": [
    "a = {1:[1, 2, 3], 2:[4, 5, 6]}\n",
    "1 in a"
   ],
   "outputs": [
    {
     "output_type": "execute_result",
     "data": {
      "text/plain": [
       "True"
      ]
     },
     "metadata": {},
     "execution_count": 9
    }
   ],
   "metadata": {}
  },
  {
   "cell_type": "code",
   "execution_count": 10,
   "source": [
    "pocket = [\"paper\", \"money\", \"cellphone\"]\n",
    "\n",
    "if \"money\" in pocket:\n",
    "  pass\n",
    "else:\n",
    "  print(\"카드를 꺼내라\")"
   ],
   "outputs": [],
   "metadata": {}
  },
  {
   "cell_type": "code",
   "execution_count": 11,
   "source": [
    "pocket = [\"paper\", \"cellphone\"]\n",
    "card = True\n",
    "\n",
    "if \"money\" in pocket:\n",
    "  print(\"택시를 타고 가라\")\n",
    "elif card:\n",
    "  print(\"카드를 꺼내라\")\n",
    "else:\n",
    "  print(\"걸어 가라\")"
   ],
   "outputs": [
    {
     "output_type": "stream",
     "name": "stdout",
     "text": [
      "카드를 꺼내라\n"
     ]
    }
   ],
   "metadata": {}
  },
  {
   "cell_type": "code",
   "execution_count": 12,
   "source": [
    "pocket = [\"paper\", \"cellphone\"]\n",
    "\n",
    "if \"money\" in pocket: pass\n",
    "else: print(\"걸어 가라\")"
   ],
   "outputs": [
    {
     "output_type": "stream",
     "name": "stdout",
     "text": [
      "걸어 가라\n"
     ]
    }
   ],
   "metadata": {}
  },
  {
   "cell_type": "code",
   "execution_count": 13,
   "source": [
    "treeHit = 0\n",
    "\n",
    "while treeHit < 10:\n",
    "  treeHit += 1\n",
    "  print(f\"나무를 {treeHit}번 찍었습니다.\")\n",
    "  if treeHit == 10:\n",
    "    print(\"나무가 넘어갑니다.\")"
   ],
   "outputs": [
    {
     "output_type": "stream",
     "name": "stdout",
     "text": [
      "나무를 1번 찍었습니다.\n",
      "나무를 2번 찍었습니다.\n",
      "나무를 3번 찍었습니다.\n",
      "나무를 4번 찍었습니다.\n",
      "나무를 5번 찍었습니다.\n",
      "나무를 6번 찍었습니다.\n",
      "나무를 7번 찍었습니다.\n",
      "나무를 8번 찍었습니다.\n",
      "나무를 9번 찍었습니다.\n",
      "나무를 10번 찍었습니다.\n",
      "나무가 넘어갑니다.\n"
     ]
    }
   ],
   "metadata": {}
  },
  {
   "cell_type": "code",
   "execution_count": 14,
   "source": [
    "test = [1, 2, 3]\n",
    "for i in test:\n",
    "  print(i)"
   ],
   "outputs": [
    {
     "output_type": "stream",
     "name": "stdout",
     "text": [
      "1\n",
      "2\n",
      "3\n"
     ]
    }
   ],
   "metadata": {}
  },
  {
   "cell_type": "code",
   "execution_count": 15,
   "source": [
    "a = [(1, 2), (3, 4), (5, 6)]\n",
    "\n",
    "for first, last in a:\n",
    "  print(first, last, first + last)"
   ],
   "outputs": [
    {
     "output_type": "stream",
     "name": "stdout",
     "text": [
      "1 2 3\n",
      "3 4 7\n",
      "5 6 11\n"
     ]
    }
   ],
   "metadata": {}
  },
  {
   "cell_type": "code",
   "execution_count": 16,
   "source": [
    "for i, (first, last) in enumerate(a):\n",
    "  print(i, first + last)"
   ],
   "outputs": [
    {
     "output_type": "stream",
     "name": "stdout",
     "text": [
      "0 3\n",
      "1 7\n",
      "2 11\n"
     ]
    }
   ],
   "metadata": {}
  },
  {
   "cell_type": "code",
   "execution_count": 17,
   "source": [
    "marks = [90, 25, 67, 45, 80]\n",
    "\n",
    "for i, mark in enumerate(marks):\n",
    "  if mark >= 60:\n",
    "    print(f\"{i+1}번 학생은 합격입니다.\")\n",
    "  else:\n",
    "    print(f\"{i+1}번 학생은 불합격입니다.\")"
   ],
   "outputs": [
    {
     "output_type": "stream",
     "name": "stdout",
     "text": [
      "1번 학생은 합격입니다.\n",
      "2번 학생은 불합격입니다.\n",
      "3번 학생은 합격입니다.\n",
      "4번 학생은 불합격입니다.\n",
      "5번 학생은 합격입니다.\n"
     ]
    }
   ],
   "metadata": {}
  },
  {
   "cell_type": "code",
   "execution_count": 18,
   "source": [
    "marks = [90, 25, 67, 45, 80]\n",
    "\n",
    "for i, mark in enumerate(marks):\n",
    "  if mark < 60:\n",
    "    continue\n",
    "  print(f\"{i+1}번 학생은 합격입니다.\")"
   ],
   "outputs": [
    {
     "output_type": "stream",
     "name": "stdout",
     "text": [
      "1번 학생은 합격입니다.\n",
      "3번 학생은 합격입니다.\n",
      "5번 학생은 합격입니다.\n"
     ]
    }
   ],
   "metadata": {}
  },
  {
   "cell_type": "code",
   "execution_count": 19,
   "source": [
    "for i in range(10):\n",
    "  print(f\"{i+1}번 진행\")"
   ],
   "outputs": [
    {
     "output_type": "stream",
     "name": "stdout",
     "text": [
      "1번 진행\n",
      "2번 진행\n",
      "3번 진행\n",
      "4번 진행\n",
      "5번 진행\n",
      "6번 진행\n",
      "7번 진행\n",
      "8번 진행\n",
      "9번 진행\n",
      "10번 진행\n"
     ]
    }
   ],
   "metadata": {}
  },
  {
   "cell_type": "code",
   "execution_count": 20,
   "source": [
    "math_list = [90, 25, 67, 45, 80]\n",
    "english_list = [80, 85, 61, 99, 25]\n",
    "\n",
    "for i in range(len(math_list)):\n",
    "  average = (math_list[i] + english_list[i]) // 2\n",
    "  if average < 60:\n",
    "    continue\n",
    "  print(f\"{i+1}번 학생은 합격입니다.\")"
   ],
   "outputs": [
    {
     "output_type": "stream",
     "name": "stdout",
     "text": [
      "1번 학생은 합격입니다.\n",
      "3번 학생은 합격입니다.\n",
      "4번 학생은 합격입니다.\n"
     ]
    }
   ],
   "metadata": {}
  },
  {
   "cell_type": "code",
   "execution_count": 21,
   "source": [
    "a = [1, 2, 3, 4]\n",
    "result =[]\n",
    "\n",
    "for num in a:\n",
    "  result.append(num*3)\n",
    "result"
   ],
   "outputs": [
    {
     "output_type": "execute_result",
     "data": {
      "text/plain": [
       "[3, 6, 9, 12]"
      ]
     },
     "metadata": {},
     "execution_count": 21
    }
   ],
   "metadata": {}
  },
  {
   "cell_type": "code",
   "execution_count": 22,
   "source": [
    "result = [num*3 for num in a]\n",
    "result"
   ],
   "outputs": [
    {
     "output_type": "execute_result",
     "data": {
      "text/plain": [
       "[3, 6, 9, 12]"
      ]
     },
     "metadata": {},
     "execution_count": 22
    }
   ],
   "metadata": {}
  },
  {
   "cell_type": "code",
   "execution_count": 23,
   "source": [
    "a = [1, 2, 3, 4]\n",
    "result = [num*3 for num in a if num % 2 == 0]\n",
    "result"
   ],
   "outputs": [
    {
     "output_type": "execute_result",
     "data": {
      "text/plain": [
       "[6, 12]"
      ]
     },
     "metadata": {},
     "execution_count": 23
    }
   ],
   "metadata": {}
  },
  {
   "cell_type": "code",
   "execution_count": 24,
   "source": [
    "result = [x*y for x in range(2, 10)\n",
    "            for y in range(1, 10)]\n",
    "result"
   ],
   "outputs": [
    {
     "output_type": "execute_result",
     "data": {
      "text/plain": [
       "[2,\n",
       " 4,\n",
       " 6,\n",
       " 8,\n",
       " 10,\n",
       " 12,\n",
       " 14,\n",
       " 16,\n",
       " 18,\n",
       " 3,\n",
       " 6,\n",
       " 9,\n",
       " 12,\n",
       " 15,\n",
       " 18,\n",
       " 21,\n",
       " 24,\n",
       " 27,\n",
       " 4,\n",
       " 8,\n",
       " 12,\n",
       " 16,\n",
       " 20,\n",
       " 24,\n",
       " 28,\n",
       " 32,\n",
       " 36,\n",
       " 5,\n",
       " 10,\n",
       " 15,\n",
       " 20,\n",
       " 25,\n",
       " 30,\n",
       " 35,\n",
       " 40,\n",
       " 45,\n",
       " 6,\n",
       " 12,\n",
       " 18,\n",
       " 24,\n",
       " 30,\n",
       " 36,\n",
       " 42,\n",
       " 48,\n",
       " 54,\n",
       " 7,\n",
       " 14,\n",
       " 21,\n",
       " 28,\n",
       " 35,\n",
       " 42,\n",
       " 49,\n",
       " 56,\n",
       " 63,\n",
       " 8,\n",
       " 16,\n",
       " 24,\n",
       " 32,\n",
       " 40,\n",
       " 48,\n",
       " 56,\n",
       " 64,\n",
       " 72,\n",
       " 9,\n",
       " 18,\n",
       " 27,\n",
       " 36,\n",
       " 45,\n",
       " 54,\n",
       " 63,\n",
       " 72,\n",
       " 81]"
      ]
     },
     "metadata": {},
     "execution_count": 24
    }
   ],
   "metadata": {}
  }
 ],
 "metadata": {
  "orig_nbformat": 4,
  "language_info": {
   "name": "python"
  }
 },
 "nbformat": 4,
 "nbformat_minor": 2
}