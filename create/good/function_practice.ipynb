{
 "cells": [
  {
   "cell_type": "code",
   "execution_count": 1,
   "source": [
    "def is_odd(n):\n",
    "  if n % 2 == 1:\n",
    "    return True\n",
    "  else:\n",
    "    return False\n",
    "\n",
    "is_odd(3)"
   ],
   "outputs": [
    {
     "output_type": "execute_result",
     "data": {
      "text/plain": [
       "True"
      ]
     },
     "metadata": {},
     "execution_count": 1
    }
   ],
   "metadata": {}
  },
  {
   "cell_type": "code",
   "execution_count": 2,
   "source": [
    "def mean(*args):\n",
    "  result = sum(args) / len(args)\n",
    "  return result\n",
    "\n",
    "mean(7, 15, 26, 38, 45, 57, 69, 77, 83, 91)"
   ],
   "outputs": [
    {
     "output_type": "execute_result",
     "data": {
      "text/plain": [
       "50.8"
      ]
     },
     "metadata": {},
     "execution_count": 2
    }
   ],
   "metadata": {}
  },
  {
   "cell_type": "code",
   "execution_count": 3,
   "source": [
    "input1 = input(\"첫 번째 숫자를 입력하세요:\")\n",
    "input2 = input(\"두 번째 숫자를 입력하세요:\")\n",
    "\n",
    "total = int(input1) + int(input2)\n",
    "print(\"두 수의 합은 %s 입니다\" % total)"
   ],
   "outputs": [
    {
     "output_type": "stream",
     "name": "stdout",
     "text": [
      "두 수의 합은 9 입니다\n"
     ]
    }
   ],
   "metadata": {}
  },
  {
   "cell_type": "code",
   "execution_count": 4,
   "source": [
    "print(\"you\" \"need\" \"python\")\n",
    "print(\"you\"+\"need\"+\"python\")\n",
    "print(\"you\", \"need\", \"python\")\n",
    "print(\"\".join([\"you\", \"need\", \"python\"]))"
   ],
   "outputs": [
    {
     "output_type": "stream",
     "name": "stdout",
     "text": [
      "youneedpython\n",
      "youneedpython\n",
      "you need python\n",
      "youneedpython\n"
     ]
    }
   ],
   "metadata": {}
  },
  {
   "cell_type": "code",
   "execution_count": 5,
   "source": [
    "f1 = open(\"test1.txt\", 'w')\n",
    "f1.write(\"Life is too short\")\n",
    "f1.close()\n",
    "\n",
    "f2 = open(\"test1.txt\", 'r')\n",
    "print(f2.read())\n",
    "f2.close()"
   ],
   "outputs": [
    {
     "output_type": "stream",
     "name": "stdout",
     "text": [
      "Life is too short\n"
     ]
    }
   ],
   "metadata": {}
  },
  {
   "cell_type": "code",
   "execution_count": 6,
   "source": [
    "user_input = input(\"저장할 내용을 입력하세요:\")\n",
    "with open(\"test2.txt\", 'a') as f:\n",
    "  f.write(user_input)\n",
    "  f.write(\"\\n\")\n",
    "  f.close()"
   ],
   "outputs": [],
   "metadata": {}
  },
  {
   "cell_type": "code",
   "execution_count": 7,
   "source": [
    "with open(\"test3.txt\", 'r') as f:\n",
    "  body = f.read()\n",
    "  f.close()\n",
    "\n",
    "body = body.replace(\"java\", \"python\")\n",
    "\n",
    "with open(\"test3.txt\", 'w') as f:\n",
    "  f.write(body)\n",
    "  f.close()"
   ],
   "outputs": [],
   "metadata": {}
  }
 ],
 "metadata": {
  "orig_nbformat": 4,
  "language_info": {
   "name": "python",
   "version": "3.6.8",
   "mimetype": "text/x-python",
   "codemirror_mode": {
    "name": "ipython",
    "version": 3
   },
   "pygments_lexer": "ipython3",
   "nbconvert_exporter": "python",
   "file_extension": ".py"
  },
  "kernelspec": {
   "name": "python3",
   "display_name": "Python 3.6.8 64-bit"
  },
  "interpreter": {
   "hash": "4cd7ab41f5fca4b9b44701077e38c5ffd31fe66a6cab21e0214b68d958d0e462"
  }
 },
 "nbformat": 4,
 "nbformat_minor": 2
}