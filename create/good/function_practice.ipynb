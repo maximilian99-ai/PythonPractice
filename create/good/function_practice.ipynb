{
 "cells": [
  {
   "cell_type": "code",
   "execution_count": 1,
   "metadata": {},
   "outputs": [
    {
     "data": {
      "text/plain": [
       "True"
      ]
     },
     "execution_count": 1,
     "metadata": {},
     "output_type": "execute_result"
    }
   ],
   "source": [
    "# 주어진 수가 홀수냐 짝수냐를 판별해주는 함수를 작성하기\n",
    "def is_odd(n):\n",
    "  if n % 2 == 1:\n",
    "    return True\n",
    "  else:\n",
    "    return False\n",
    "\n",
    "is_odd(3)"
   ]
  },
  {
   "cell_type": "code",
   "execution_count": 2,
   "metadata": {},
   "outputs": [
    {
     "data": {
      "text/plain": [
       "50.8"
      ]
     },
     "execution_count": 2,
     "metadata": {},
     "output_type": "execute_result"
    }
   ],
   "source": [
    "# 입력으로 들어오는 모든 수의 평균 값을 계산해주는 함수를 작성하기\n",
    "def mean(*args):\n",
    "  result = sum(args) / len(args)\n",
    "  return result\n",
    "\n",
    "mean(7, 15, 26, 38, 45, 57, 69, 77, 83, 91)"
   ]
  },
  {
   "cell_type": "code",
   "execution_count": 3,
   "metadata": {},
   "outputs": [
    {
     "name": "stdout",
     "output_type": "stream",
     "text": [
      "두 수의 합은 9 입니다\n"
     ]
    }
   ],
   "source": [
    "# 두 개의 숫자를 입력받아서 출력하기\n",
    "input1 = input(\"첫 번째 숫자를 입력하세요:\")\n",
    "input2 = input(\"두 번째 숫자를 입력하세요:\")\n",
    "\n",
    "total = int(input1) + int(input2)\n",
    "print(\"두 수의 합은 %s 입니다\" % total)"
   ]
  },
  {
   "cell_type": "code",
   "execution_count": 4,
   "metadata": {},
   "outputs": [
    {
     "name": "stdout",
     "output_type": "stream",
     "text": [
      "youneedpython\n",
      "youneedpython\n",
      "you need python\n",
      "youneedpython\n"
     ]
    }
   ],
   "source": [
    "# 다음 중 출력결과가 다른 하나를 고르기\n",
    "print(\"you\" \"need\" \"python\")\n",
    "print(\"you\"+\"need\"+\"python\")\n",
    "print(\"you\", \"need\", \"python\")\n",
    "print(\"\".join([\"you\", \"need\", \"python\"]))"
   ]
  },
  {
   "cell_type": "code",
   "execution_count": 5,
   "metadata": {},
   "outputs": [
    {
     "name": "stdout",
     "output_type": "stream",
     "text": [
      "Life is too short\n"
     ]
    }
   ],
   "source": [
    "# \"test1.txt.\"라는 파일에 'Life is too short'라는 문자열을 저장한 후 다시 그 파일을 읽어서 출력하도록 작성하기\n",
    "f1 = open(\"test1.txt\", 'w')\n",
    "f1.write(\"Life is too short\")\n",
    "f1.close()\n",
    "\n",
    "f2 = open(\"test1.txt\", 'r')\n",
    "print(f2.read())\n",
    "f2.close()"
   ]
  },
  {
   "cell_type": "code",
   "execution_count": 6,
   "metadata": {},
   "outputs": [],
   "source": [
    "# 사용자의 입력을 \"test2.txt.\"라는 파일에 저장하는 프로그램을 작성하기\n",
    "user_input = input(\"저장할 내용을 입력하세요:\")\n",
    "with open(\"test2.txt\", 'a') as f:\n",
    "  f.write(user_input)\n",
    "  f.write(\"\\n\")\n",
    "  f.close()"
   ]
  },
  {
   "cell_type": "code",
   "execution_count": 7,
   "metadata": {},
   "outputs": [],
   "source": [
    "# \"test3.txt.\"라는 파일의 내용 중 'java'라는 문자열을 'python'으로 바꿔서 저장하기\n",
    "with open(\"test3.txt\", 'r') as f:\n",
    "  body = f.read()\n",
    "  f.close()\n",
    "\n",
    "body = body.replace(\"java\", \"python\")\n",
    "\n",
    "with open(\"test3.txt\", 'w') as f:\n",
    "  f.write(body)\n",
    "  f.close()"
   ]
  }
 ],
 "metadata": {
  "interpreter": {
   "hash": "4cd7ab41f5fca4b9b44701077e38c5ffd31fe66a6cab21e0214b68d958d0e462"
  },
  "kernelspec": {
   "display_name": "Python 3.6.8 64-bit",
   "name": "python3"
  },
  "language_info": {
   "codemirror_mode": {
    "name": "ipython",
    "version": 3
   },
   "file_extension": ".py",
   "mimetype": "text/x-python",
   "name": "python",
   "nbconvert_exporter": "python",
   "pygments_lexer": "ipython3",
   "version": "3.6.8"
  },
  "orig_nbformat": 4
 },
 "nbformat": 4,
 "nbformat_minor": 2
}
