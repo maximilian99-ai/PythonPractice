{
 "cells": [
  {
   "cell_type": "code",
   "execution_count": 1,
   "source": [
    "abs(3)"
   ],
   "outputs": [
    {
     "output_type": "execute_result",
     "data": {
      "text/plain": [
       "3"
      ]
     },
     "metadata": {},
     "execution_count": 1
    }
   ],
   "metadata": {}
  },
  {
   "cell_type": "code",
   "execution_count": 2,
   "source": [
    "abs(-1.2)"
   ],
   "outputs": [
    {
     "output_type": "execute_result",
     "data": {
      "text/plain": [
       "1.2"
      ]
     },
     "metadata": {},
     "execution_count": 2
    }
   ],
   "metadata": {}
  },
  {
   "cell_type": "code",
   "execution_count": 3,
   "source": [
    "all([1, 2, 3])"
   ],
   "outputs": [
    {
     "output_type": "execute_result",
     "data": {
      "text/plain": [
       "True"
      ]
     },
     "metadata": {},
     "execution_count": 3
    }
   ],
   "metadata": {}
  },
  {
   "cell_type": "code",
   "execution_count": 4,
   "source": [
    "all([1, 2, 3, 0])"
   ],
   "outputs": [
    {
     "output_type": "execute_result",
     "data": {
      "text/plain": [
       "False"
      ]
     },
     "metadata": {},
     "execution_count": 4
    }
   ],
   "metadata": {}
  },
  {
   "cell_type": "code",
   "execution_count": 5,
   "source": [
    "any([1, 2, 0])"
   ],
   "outputs": [
    {
     "output_type": "execute_result",
     "data": {
      "text/plain": [
       "True"
      ]
     },
     "metadata": {},
     "execution_count": 5
    }
   ],
   "metadata": {}
  },
  {
   "cell_type": "code",
   "execution_count": 6,
   "source": [
    "any([0, \"\"])"
   ],
   "outputs": [
    {
     "output_type": "execute_result",
     "data": {
      "text/plain": [
       "False"
      ]
     },
     "metadata": {},
     "execution_count": 6
    }
   ],
   "metadata": {}
  },
  {
   "cell_type": "code",
   "execution_count": 7,
   "source": [
    "chr(97)"
   ],
   "outputs": [
    {
     "output_type": "execute_result",
     "data": {
      "text/plain": [
       "'a'"
      ]
     },
     "metadata": {},
     "execution_count": 7
    }
   ],
   "metadata": {}
  },
  {
   "cell_type": "code",
   "execution_count": 8,
   "source": [
    "chr(48)"
   ],
   "outputs": [
    {
     "output_type": "execute_result",
     "data": {
      "text/plain": [
       "'0'"
      ]
     },
     "metadata": {},
     "execution_count": 8
    }
   ],
   "metadata": {}
  },
  {
   "cell_type": "code",
   "execution_count": 9,
   "source": [
    "dir([1, 2])"
   ],
   "outputs": [
    {
     "output_type": "execute_result",
     "data": {
      "text/plain": [
       "['__add__',\n",
       " '__class__',\n",
       " '__contains__',\n",
       " '__delattr__',\n",
       " '__delitem__',\n",
       " '__dir__',\n",
       " '__doc__',\n",
       " '__eq__',\n",
       " '__format__',\n",
       " '__ge__',\n",
       " '__getattribute__',\n",
       " '__getitem__',\n",
       " '__gt__',\n",
       " '__hash__',\n",
       " '__iadd__',\n",
       " '__imul__',\n",
       " '__init__',\n",
       " '__init_subclass__',\n",
       " '__iter__',\n",
       " '__le__',\n",
       " '__len__',\n",
       " '__lt__',\n",
       " '__mul__',\n",
       " '__ne__',\n",
       " '__new__',\n",
       " '__reduce__',\n",
       " '__reduce_ex__',\n",
       " '__repr__',\n",
       " '__reversed__',\n",
       " '__rmul__',\n",
       " '__setattr__',\n",
       " '__setitem__',\n",
       " '__sizeof__',\n",
       " '__str__',\n",
       " '__subclasshook__',\n",
       " 'append',\n",
       " 'clear',\n",
       " 'copy',\n",
       " 'count',\n",
       " 'extend',\n",
       " 'index',\n",
       " 'insert',\n",
       " 'pop',\n",
       " 'remove',\n",
       " 'reverse',\n",
       " 'sort']"
      ]
     },
     "metadata": {},
     "execution_count": 9
    }
   ],
   "metadata": {}
  },
  {
   "cell_type": "code",
   "execution_count": 10,
   "source": [
    "dir({\"1\":\"a\"})"
   ],
   "outputs": [
    {
     "output_type": "execute_result",
     "data": {
      "text/plain": [
       "['__class__',\n",
       " '__contains__',\n",
       " '__delattr__',\n",
       " '__delitem__',\n",
       " '__dir__',\n",
       " '__doc__',\n",
       " '__eq__',\n",
       " '__format__',\n",
       " '__ge__',\n",
       " '__getattribute__',\n",
       " '__getitem__',\n",
       " '__gt__',\n",
       " '__hash__',\n",
       " '__init__',\n",
       " '__init_subclass__',\n",
       " '__iter__',\n",
       " '__le__',\n",
       " '__len__',\n",
       " '__lt__',\n",
       " '__ne__',\n",
       " '__new__',\n",
       " '__reduce__',\n",
       " '__reduce_ex__',\n",
       " '__repr__',\n",
       " '__setattr__',\n",
       " '__setitem__',\n",
       " '__sizeof__',\n",
       " '__str__',\n",
       " '__subclasshook__',\n",
       " 'clear',\n",
       " 'copy',\n",
       " 'fromkeys',\n",
       " 'get',\n",
       " 'items',\n",
       " 'keys',\n",
       " 'pop',\n",
       " 'popitem',\n",
       " 'setdefault',\n",
       " 'update',\n",
       " 'values']"
      ]
     },
     "metadata": {},
     "execution_count": 10
    }
   ],
   "metadata": {}
  },
  {
   "cell_type": "code",
   "execution_count": 11,
   "source": [
    "divmod(7, 3)"
   ],
   "outputs": [
    {
     "output_type": "execute_result",
     "data": {
      "text/plain": [
       "(2, 1)"
      ]
     },
     "metadata": {},
     "execution_count": 11
    }
   ],
   "metadata": {}
  },
  {
   "cell_type": "code",
   "execution_count": 12,
   "source": [
    "for i, name in enumerate(['body', 'foo', 'bar']):\n",
    "  print(i, name)"
   ],
   "outputs": [
    {
     "output_type": "stream",
     "name": "stdout",
     "text": [
      "0 body\n",
      "1 foo\n",
      "2 bar\n"
     ]
    }
   ],
   "metadata": {}
  },
  {
   "cell_type": "code",
   "execution_count": 13,
   "source": [
    "eval('1+2')"
   ],
   "outputs": [
    {
     "output_type": "execute_result",
     "data": {
      "text/plain": [
       "3"
      ]
     },
     "metadata": {},
     "execution_count": 13
    }
   ],
   "metadata": {}
  },
  {
   "cell_type": "code",
   "execution_count": 14,
   "source": [
    "eval(\"'hi' + 'a'\")"
   ],
   "outputs": [
    {
     "output_type": "execute_result",
     "data": {
      "text/plain": [
       "'hia'"
      ]
     },
     "metadata": {},
     "execution_count": 14
    }
   ],
   "metadata": {}
  },
  {
   "cell_type": "code",
   "execution_count": 15,
   "source": [
    "eval('divmod(4,3)')"
   ],
   "outputs": [
    {
     "output_type": "execute_result",
     "data": {
      "text/plain": [
       "(1, 1)"
      ]
     },
     "metadata": {},
     "execution_count": 15
    }
   ],
   "metadata": {}
  },
  {
   "cell_type": "code",
   "execution_count": 16,
   "source": [
    "def positive(x):\n",
    "  return x > 0"
   ],
   "outputs": [],
   "metadata": {}
  },
  {
   "cell_type": "code",
   "execution_count": 17,
   "source": [
    "list(filter(positive, [1, -3, 2, 0, -5, 6]))"
   ],
   "outputs": [
    {
     "output_type": "execute_result",
     "data": {
      "text/plain": [
       "[1, 2, 6]"
      ]
     },
     "metadata": {},
     "execution_count": 17
    }
   ],
   "metadata": {}
  },
  {
   "cell_type": "code",
   "execution_count": 18,
   "source": [
    "list(filter(lambda x: x > 0, [1, -3, 2, 0, -5, 6]))"
   ],
   "outputs": [
    {
     "output_type": "execute_result",
     "data": {
      "text/plain": [
       "[1, 2, 6]"
      ]
     },
     "metadata": {},
     "execution_count": 18
    }
   ],
   "metadata": {}
  },
  {
   "cell_type": "code",
   "execution_count": 19,
   "source": [
    "a = 3\n",
    "id(3)"
   ],
   "outputs": [
    {
     "output_type": "execute_result",
     "data": {
      "text/plain": [
       "4412680304"
      ]
     },
     "metadata": {},
     "execution_count": 19
    }
   ],
   "metadata": {}
  },
  {
   "cell_type": "code",
   "execution_count": 20,
   "source": [
    "id(a)"
   ],
   "outputs": [
    {
     "output_type": "execute_result",
     "data": {
      "text/plain": [
       "4412680304"
      ]
     },
     "metadata": {},
     "execution_count": 20
    }
   ],
   "metadata": {}
  },
  {
   "cell_type": "code",
   "execution_count": 21,
   "source": [
    "b = a\n",
    "id(b)"
   ],
   "outputs": [
    {
     "output_type": "execute_result",
     "data": {
      "text/plain": [
       "4412680304"
      ]
     },
     "metadata": {},
     "execution_count": 21
    }
   ],
   "metadata": {}
  },
  {
   "cell_type": "code",
   "execution_count": 22,
   "source": [
    "a = input()\n",
    "a"
   ],
   "outputs": [
    {
     "output_type": "execute_result",
     "data": {
      "text/plain": [
       "''"
      ]
     },
     "metadata": {},
     "execution_count": 22
    }
   ],
   "metadata": {}
  },
  {
   "cell_type": "code",
   "execution_count": 23,
   "source": [
    "b = input(\"Enter: \")"
   ],
   "outputs": [],
   "metadata": {}
  },
  {
   "cell_type": "code",
   "execution_count": 24,
   "source": [
    "int('3')"
   ],
   "outputs": [
    {
     "output_type": "execute_result",
     "data": {
      "text/plain": [
       "3"
      ]
     },
     "metadata": {},
     "execution_count": 24
    }
   ],
   "metadata": {}
  },
  {
   "cell_type": "code",
   "execution_count": 25,
   "source": [
    "int(3.4)"
   ],
   "outputs": [
    {
     "output_type": "execute_result",
     "data": {
      "text/plain": [
       "3"
      ]
     },
     "metadata": {},
     "execution_count": 25
    }
   ],
   "metadata": {}
  },
  {
   "cell_type": "code",
   "execution_count": 26,
   "source": [
    "a = 3\n",
    "isinstance(a, str)"
   ],
   "outputs": [
    {
     "output_type": "execute_result",
     "data": {
      "text/plain": [
       "False"
      ]
     },
     "metadata": {},
     "execution_count": 26
    }
   ],
   "metadata": {}
  },
  {
   "cell_type": "code",
   "execution_count": 27,
   "source": [
    "isinstance(a, int)"
   ],
   "outputs": [
    {
     "output_type": "execute_result",
     "data": {
      "text/plain": [
       "True"
      ]
     },
     "metadata": {},
     "execution_count": 27
    }
   ],
   "metadata": {}
  },
  {
   "cell_type": "code",
   "execution_count": 28,
   "source": [
    "def two_times(x):\n",
    "  return x * 2\n",
    "\n",
    "list(map(two_times, [1, -3, 2, 0, -5, 6]))"
   ],
   "outputs": [
    {
     "output_type": "execute_result",
     "data": {
      "text/plain": [
       "[2, -6, 4, 0, -10, 12]"
      ]
     },
     "metadata": {},
     "execution_count": 28
    }
   ],
   "metadata": {}
  },
  {
   "cell_type": "code",
   "execution_count": 29,
   "source": [
    "list(filter(lambda x: x * 2, [1, -3, 2, 0, -5, 6]))"
   ],
   "outputs": [
    {
     "output_type": "execute_result",
     "data": {
      "text/plain": [
       "[1, -3, 2, -5, 6]"
      ]
     },
     "metadata": {},
     "execution_count": 29
    }
   ],
   "metadata": {}
  },
  {
   "cell_type": "code",
   "execution_count": 30,
   "source": [
    "fread = open(\"read_mode.rtf\")"
   ],
   "outputs": [],
   "metadata": {}
  },
  {
   "cell_type": "code",
   "execution_count": 31,
   "source": [
    "fappend = open(\"read_mode.rtf\", 'a')"
   ],
   "outputs": [],
   "metadata": {}
  },
  {
   "cell_type": "code",
   "execution_count": 32,
   "source": [
    "fwrite = open(\"write_mode.rtf\", 'w')"
   ],
   "outputs": [],
   "metadata": {}
  },
  {
   "cell_type": "code",
   "execution_count": 33,
   "source": [
    "pow(2, 4)"
   ],
   "outputs": [
    {
     "output_type": "execute_result",
     "data": {
      "text/plain": [
       "16"
      ]
     },
     "metadata": {},
     "execution_count": 33
    }
   ],
   "metadata": {}
  },
  {
   "cell_type": "code",
   "execution_count": 34,
   "source": [
    "pow(3, 3)"
   ],
   "outputs": [
    {
     "output_type": "execute_result",
     "data": {
      "text/plain": [
       "27"
      ]
     },
     "metadata": {},
     "execution_count": 34
    }
   ],
   "metadata": {}
  },
  {
   "cell_type": "code",
   "execution_count": 35,
   "source": [
    "round(4.6)"
   ],
   "outputs": [
    {
     "output_type": "execute_result",
     "data": {
      "text/plain": [
       "5"
      ]
     },
     "metadata": {},
     "execution_count": 35
    }
   ],
   "metadata": {}
  },
  {
   "cell_type": "code",
   "execution_count": 36,
   "source": [
    "round(4.2)"
   ],
   "outputs": [
    {
     "output_type": "execute_result",
     "data": {
      "text/plain": [
       "4"
      ]
     },
     "metadata": {},
     "execution_count": 36
    }
   ],
   "metadata": {}
  },
  {
   "cell_type": "code",
   "execution_count": 37,
   "source": [
    "round(3.141592, 2)"
   ],
   "outputs": [
    {
     "output_type": "execute_result",
     "data": {
      "text/plain": [
       "3.14"
      ]
     },
     "metadata": {},
     "execution_count": 37
    }
   ],
   "metadata": {}
  },
  {
   "cell_type": "code",
   "execution_count": 38,
   "source": [
    "sorted([3, 1, 2])"
   ],
   "outputs": [
    {
     "output_type": "execute_result",
     "data": {
      "text/plain": [
       "[1, 2, 3]"
      ]
     },
     "metadata": {},
     "execution_count": 38
    }
   ],
   "metadata": {}
  },
  {
   "cell_type": "code",
   "execution_count": 39,
   "source": [
    "sorted(['a', 'c', 'b'])"
   ],
   "outputs": [
    {
     "output_type": "execute_result",
     "data": {
      "text/plain": [
       "['a', 'b', 'c']"
      ]
     },
     "metadata": {},
     "execution_count": 39
    }
   ],
   "metadata": {}
  },
  {
   "cell_type": "code",
   "execution_count": 40,
   "source": [
    "a = [['a', 3], ['b', 1], ['c', 2]]\n",
    "sorted(a, key=lambda x: x[1])"
   ],
   "outputs": [
    {
     "output_type": "execute_result",
     "data": {
      "text/plain": [
       "[['b', 1], ['c', 2], ['a', 3]]"
      ]
     },
     "metadata": {},
     "execution_count": 40
    }
   ],
   "metadata": {}
  },
  {
   "cell_type": "code",
   "execution_count": 41,
   "source": [
    "sorted(a, key=lambda x: x[1], reverse=True)"
   ],
   "outputs": [
    {
     "output_type": "execute_result",
     "data": {
      "text/plain": [
       "[['a', 3], ['c', 2], ['b', 1]]"
      ]
     },
     "metadata": {},
     "execution_count": 41
    }
   ],
   "metadata": {}
  },
  {
   "cell_type": "code",
   "execution_count": 42,
   "source": [
    "str(3)"
   ],
   "outputs": [
    {
     "output_type": "execute_result",
     "data": {
      "text/plain": [
       "'3'"
      ]
     },
     "metadata": {},
     "execution_count": 42
    }
   ],
   "metadata": {}
  },
  {
   "cell_type": "code",
   "execution_count": 43,
   "source": [
    "class str_test:\n",
    "  def __str__(self):\n",
    "    return \"str 테스트!\"\n",
    "\n",
    "str(str_test())"
   ],
   "outputs": [
    {
     "output_type": "execute_result",
     "data": {
      "text/plain": [
       "'str 테스트!'"
      ]
     },
     "metadata": {},
     "execution_count": 43
    }
   ],
   "metadata": {}
  },
  {
   "cell_type": "code",
   "execution_count": 44,
   "source": [
    "list(zip([1, 2, 3], [4, 5, 6]))"
   ],
   "outputs": [
    {
     "output_type": "execute_result",
     "data": {
      "text/plain": [
       "[(1, 4), (2, 5), (3, 6)]"
      ]
     },
     "metadata": {},
     "execution_count": 44
    }
   ],
   "metadata": {}
  },
  {
   "cell_type": "code",
   "execution_count": 45,
   "source": [
    "list(zip([1, 2, 3], [4, 5, 6], [7, 8, 9]))"
   ],
   "outputs": [
    {
     "output_type": "execute_result",
     "data": {
      "text/plain": [
       "[(1, 4, 7), (2, 5, 8), (3, 6, 9)]"
      ]
     },
     "metadata": {},
     "execution_count": 45
    }
   ],
   "metadata": {}
  },
  {
   "cell_type": "code",
   "execution_count": 46,
   "source": [
    "list(zip(\"abc\", \"def\"))"
   ],
   "outputs": [
    {
     "output_type": "execute_result",
     "data": {
      "text/plain": [
       "[('a', 'd'), ('b', 'e'), ('c', 'f')]"
      ]
     },
     "metadata": {},
     "execution_count": 46
    }
   ],
   "metadata": {}
  },
  {
   "cell_type": "code",
   "execution_count": 47,
   "source": [
    "import pickle\n",
    "\n",
    "f = open(\"test.rtf\", 'wb')\n",
    "data = {1: 'python', 2: 'you need'}\n",
    "pickle.dump(data, f)\n",
    "f.close()"
   ],
   "outputs": [],
   "metadata": {}
  },
  {
   "cell_type": "code",
   "execution_count": 48,
   "source": [
    "f = open(\"test.rtf\", 'rb')\n",
    "data = pickle.load(f)\n",
    "print(data)\n",
    "f.close()"
   ],
   "outputs": [
    {
     "output_type": "stream",
     "name": "stdout",
     "text": [
      "{1: 'python', 2: 'you need'}\n"
     ]
    }
   ],
   "metadata": {}
  },
  {
   "cell_type": "code",
   "execution_count": 49,
   "source": [
    "import os\n",
    "\n",
    "os.environ"
   ],
   "outputs": [
    {
     "output_type": "execute_result",
     "data": {
      "text/plain": [
       "environ{'ELECTRON_RUN_AS_NODE': '1',\n",
       "        'USER': 'macbook',\n",
       "        '__CFBundleIdentifier': 'com.microsoft.VSCode',\n",
       "        'COMMAND_MODE': 'unix2003',\n",
       "        'LOGNAME': 'macbook',\n",
       "        'PATH': '/Users/macbook/miniconda3/bin:/Library/Frameworks/Python.framework/Versions/3.6/bin:/Library/Frameworks/Python.framework/Versions/3.9/bin:/Library/Frameworks/Python.framework/Versions/2.7/bin:/Library/Frameworks/Python.framework/Versions/3.7/bin:/usr/local/bin:/usr/bin:/bin:/usr/sbin:/sbin:/Applications/VMware Fusion.app/Contents/Public:/usr/local/share/dotnet:~/.dotnet/tools:/Library/Apple/usr/bin:/Library/Frameworks/Mono.framework/Versions/Current/Commands',\n",
       "        'SSH_AUTH_SOCK': '/private/tmp/com.apple.launchd.HvMQKndQg8/Listeners',\n",
       "        'SHELL': '/bin/zsh',\n",
       "        'HOME': '/Users/macbook',\n",
       "        '__CF_USER_TEXT_ENCODING': '0x1F5:0x3:0x33',\n",
       "        'TMPDIR': '/var/folders/5p/stfgjh3n40d_jwz73drhlh900000gn/T/',\n",
       "        'XPC_SERVICE_NAME': 'application.com.microsoft.VSCode.31140437.31140443',\n",
       "        'XPC_FLAGS': '0x0',\n",
       "        'ORIGINAL_XDG_CURRENT_DESKTOP': 'undefined',\n",
       "        'VSCODE_CWD': '/',\n",
       "        'VSCODE_BROWSER_CODE_LOADING': 'bypassHeatCheck',\n",
       "        'VSCODE_NLS_CONFIG': '{\"locale\":\"ko\",\"availableLanguages\":{\"*\":\"ko\"},\"_languagePackId\":\"0870ca4c13bde4b650a434d6ffe742f8.ko\",\"_translationsConfigFile\":\"/Users/macbook/Library/Application Support/Code/clp/0870ca4c13bde4b650a434d6ffe742f8.ko/tcf.json\",\"_cacheRoot\":\"/Users/macbook/Library/Application Support/Code/clp/0870ca4c13bde4b650a434d6ffe742f8.ko\",\"_resolvedLanguagePackCoreLocation\":\"/Users/macbook/Library/Application Support/Code/clp/0870ca4c13bde4b650a434d6ffe742f8.ko/c3f126316369cd610563c75b1b1725e0679adfb3\",\"_corruptedFile\":\"/Users/macbook/Library/Application Support/Code/clp/0870ca4c13bde4b650a434d6ffe742f8.ko/corrupted.info\",\"_languagePackSupport\":true}',\n",
       "        'VSCODE_CODE_CACHE_PATH': '/Users/macbook/Library/Application Support/Code/CachedData/c3f126316369cd610563c75b1b1725e0679adfb3',\n",
       "        'VSCODE_IPC_HOOK': '/Users/macbook/Library/Application Support/Code/1.58.2-main.sock',\n",
       "        'VSCODE_PID': '1044',\n",
       "        'SHLVL': '0',\n",
       "        'PWD': '/',\n",
       "        'OLDPWD': '/',\n",
       "        '_': '/Users/macbook/Desktop/Visual Studio Code.app/Contents/MacOS/Electron',\n",
       "        'VSCODE_AMD_ENTRYPOINT': 'vs/workbench/services/extensions/node/extensionHostProcess',\n",
       "        'VSCODE_PIPE_LOGGING': 'true',\n",
       "        'VSCODE_VERBOSE_LOGGING': 'true',\n",
       "        'VSCODE_LOG_NATIVE': 'false',\n",
       "        'VSCODE_IPC_HOOK_EXTHOST': '/var/folders/5p/stfgjh3n40d_jwz73drhlh900000gn/T/vscode-ipc-eb41cda4-2bf1-46f7-b5ae-a1e4a9cc720c.sock',\n",
       "        'VSCODE_HANDLES_UNCAUGHT_ERRORS': 'true',\n",
       "        'VSCODE_LOG_STACK': 'false',\n",
       "        'APPLICATION_INSIGHTS_NO_DIAGNOSTIC_CHANNEL': 'true',\n",
       "        'PYTHONPATH': '/Users/macbook/.vscode/extensions/ms-toolsai.jupyter-2021.8.1046824664/pythonFiles:/Users/macbook/.vscode/extensions/ms-toolsai.jupyter-2021.8.1046824664/pythonFiles/lib/python',\n",
       "        'PYTHONUNBUFFERED': '1',\n",
       "        'PYTHONIOENCODING': 'utf-8',\n",
       "        '__PYVENV_LAUNCHER__': '/usr/local/bin/python',\n",
       "        'JPY_PARENT_PID': '3596',\n",
       "        'TERM': 'xterm-color',\n",
       "        'CLICOLOR': '1',\n",
       "        'PAGER': 'cat',\n",
       "        'GIT_PAGER': 'cat',\n",
       "        'MPLBACKEND': 'module://ipykernel.pylab.backend_inline'}"
      ]
     },
     "metadata": {},
     "execution_count": 49
    }
   ],
   "metadata": {}
  },
  {
   "cell_type": "code",
   "execution_count": 50,
   "source": [
    "os.getcwd()"
   ],
   "outputs": [
    {
     "output_type": "execute_result",
     "data": {
      "text/plain": [
       "'/Users/macbook/코드/파이썬기본'"
      ]
     },
     "metadata": {},
     "execution_count": 50
    }
   ],
   "metadata": {}
  },
  {
   "cell_type": "code",
   "execution_count": 51,
   "source": [
    "os.chdir(\"/Users/macbook/코드\")"
   ],
   "outputs": [],
   "metadata": {}
  },
  {
   "cell_type": "code",
   "execution_count": 52,
   "source": [
    "os.getcwd()"
   ],
   "outputs": [
    {
     "output_type": "execute_result",
     "data": {
      "text/plain": [
       "'/Users/macbook/코드'"
      ]
     },
     "metadata": {},
     "execution_count": 52
    }
   ],
   "metadata": {}
  },
  {
   "cell_type": "code",
   "execution_count": 53,
   "source": [
    "# 코드 아래에 test 폴더가 없다면 오류 발생\n",
    "os.mkdir(\"/Users/macbook/코드/test/create\")"
   ],
   "outputs": [
    {
     "output_type": "error",
     "ename": "FileExistsError",
     "evalue": "[Errno 17] File exists: '/Users/macbook/코드/test/create'",
     "traceback": [
      "\u001b[0;31m---------------------------------------------------------------------------\u001b[0m",
      "\u001b[0;31mFileExistsError\u001b[0m                           Traceback (most recent call last)",
      "\u001b[0;32m<ipython-input-53-1a701b085029>\u001b[0m in \u001b[0;36m<module>\u001b[0;34m\u001b[0m\n\u001b[1;32m      1\u001b[0m \u001b[0;31m# 코드 아래에 test 폴더가 없다면 오류 발생\u001b[0m\u001b[0;34m\u001b[0m\u001b[0;34m\u001b[0m\u001b[0;34m\u001b[0m\u001b[0m\n\u001b[0;32m----> 2\u001b[0;31m \u001b[0mos\u001b[0m\u001b[0;34m.\u001b[0m\u001b[0mmkdir\u001b[0m\u001b[0;34m(\u001b[0m\u001b[0;34m\"/Users/macbook/코드/test/create\"\u001b[0m\u001b[0;34m)\u001b[0m\u001b[0;34m\u001b[0m\u001b[0;34m\u001b[0m\u001b[0m\n\u001b[0m",
      "\u001b[0;31mFileExistsError\u001b[0m: [Errno 17] File exists: '/Users/macbook/코드/test/create'"
     ]
    }
   ],
   "metadata": {}
  },
  {
   "cell_type": "code",
   "execution_count": 54,
   "source": [
    "# test, create 폴더가 없어도 전부 다 생성\n",
    "os.makedirs(\"/Users/macbook/코드/test/create/good\")"
   ],
   "outputs": [
    {
     "output_type": "error",
     "ename": "FileExistsError",
     "evalue": "[Errno 17] File exists: '/Users/macbook/코드/test/create/good'",
     "traceback": [
      "\u001b[0;31m---------------------------------------------------------------------------\u001b[0m",
      "\u001b[0;31mFileExistsError\u001b[0m                           Traceback (most recent call last)",
      "\u001b[0;32m<ipython-input-54-1895cfc47b8a>\u001b[0m in \u001b[0;36m<module>\u001b[0;34m\u001b[0m\n\u001b[1;32m      1\u001b[0m \u001b[0;31m# test, create 폴더가 없어도 전부 다 생성\u001b[0m\u001b[0;34m\u001b[0m\u001b[0;34m\u001b[0m\u001b[0;34m\u001b[0m\u001b[0m\n\u001b[0;32m----> 2\u001b[0;31m \u001b[0mos\u001b[0m\u001b[0;34m.\u001b[0m\u001b[0mmakedirs\u001b[0m\u001b[0;34m(\u001b[0m\u001b[0;34m\"/Users/macbook/코드/test/create/good\"\u001b[0m\u001b[0;34m)\u001b[0m\u001b[0;34m\u001b[0m\u001b[0;34m\u001b[0m\u001b[0m\n\u001b[0m",
      "\u001b[0;32m/Library/Frameworks/Python.framework/Versions/3.6/lib/python3.6/os.py\u001b[0m in \u001b[0;36mmakedirs\u001b[0;34m(name, mode, exist_ok)\u001b[0m\n\u001b[1;32m    218\u001b[0m             \u001b[0;32mreturn\u001b[0m\u001b[0;34m\u001b[0m\u001b[0;34m\u001b[0m\u001b[0m\n\u001b[1;32m    219\u001b[0m     \u001b[0;32mtry\u001b[0m\u001b[0;34m:\u001b[0m\u001b[0;34m\u001b[0m\u001b[0;34m\u001b[0m\u001b[0m\n\u001b[0;32m--> 220\u001b[0;31m         \u001b[0mmkdir\u001b[0m\u001b[0;34m(\u001b[0m\u001b[0mname\u001b[0m\u001b[0;34m,\u001b[0m \u001b[0mmode\u001b[0m\u001b[0;34m)\u001b[0m\u001b[0;34m\u001b[0m\u001b[0;34m\u001b[0m\u001b[0m\n\u001b[0m\u001b[1;32m    221\u001b[0m     \u001b[0;32mexcept\u001b[0m \u001b[0mOSError\u001b[0m\u001b[0;34m:\u001b[0m\u001b[0;34m\u001b[0m\u001b[0;34m\u001b[0m\u001b[0m\n\u001b[1;32m    222\u001b[0m         \u001b[0;31m# Cannot rely on checking for EEXIST, since the operating system\u001b[0m\u001b[0;34m\u001b[0m\u001b[0;34m\u001b[0m\u001b[0;34m\u001b[0m\u001b[0m\n",
      "\u001b[0;31mFileExistsError\u001b[0m: [Errno 17] File exists: '/Users/macbook/코드/test/create/good'"
     ]
    }
   ],
   "metadata": {}
  },
  {
   "cell_type": "code",
   "execution_count": 55,
   "source": [
    "# 디렉터리가 비어있지 않다면 오류 발생\n",
    "os.rmdir(\"/Users/macbook/코드/test/create\")\n",
    "os.rmdir(\"/Users/macbook/코드/test/create/good\")"
   ],
   "outputs": [
    {
     "output_type": "error",
     "ename": "OSError",
     "evalue": "[Errno 66] Directory not empty: '/Users/macbook/코드/test/create'",
     "traceback": [
      "\u001b[0;31m---------------------------------------------------------------------------\u001b[0m",
      "\u001b[0;31mOSError\u001b[0m                                   Traceback (most recent call last)",
      "\u001b[0;32m<ipython-input-55-572f8c2b0187>\u001b[0m in \u001b[0;36m<module>\u001b[0;34m\u001b[0m\n\u001b[1;32m      1\u001b[0m \u001b[0;31m# 디렉터리가 비어있지 않다면 오류 발생\u001b[0m\u001b[0;34m\u001b[0m\u001b[0;34m\u001b[0m\u001b[0;34m\u001b[0m\u001b[0m\n\u001b[0;32m----> 2\u001b[0;31m \u001b[0mos\u001b[0m\u001b[0;34m.\u001b[0m\u001b[0mrmdir\u001b[0m\u001b[0;34m(\u001b[0m\u001b[0;34m\"/Users/macbook/코드/test/create\"\u001b[0m\u001b[0;34m)\u001b[0m\u001b[0;34m\u001b[0m\u001b[0;34m\u001b[0m\u001b[0m\n\u001b[0m\u001b[1;32m      3\u001b[0m \u001b[0mos\u001b[0m\u001b[0;34m.\u001b[0m\u001b[0mrmdir\u001b[0m\u001b[0;34m(\u001b[0m\u001b[0;34m\"/Users/macbook/코드/test/create/good\"\u001b[0m\u001b[0;34m)\u001b[0m\u001b[0;34m\u001b[0m\u001b[0;34m\u001b[0m\u001b[0m\n",
      "\u001b[0;31mOSError\u001b[0m: [Errno 66] Directory not empty: '/Users/macbook/코드/test/create'"
     ]
    }
   ],
   "metadata": {}
  },
  {
   "cell_type": "code",
   "execution_count": 56,
   "source": [
    "for (path, dir, files) in os.walk(\"/Users/macbook/코드/\"):\n",
    "  for filename in files:\n",
    "    print(f\"경로: {path} / 이름: {filename}\")"
   ],
   "outputs": [
    {
     "output_type": "stream",
     "name": "stdout",
     "text": [
      "경로: /Users/macbook/코드/ / 이름: timestable.py\n",
      "경로: /Users/macbook/코드/ / 이름: .DS_Store\n",
      "경로: /Users/macbook/코드/test / 이름: .DS_Store\n",
      "경로: /Users/macbook/코드/데이터 스트럭쳐 / 이름: heap.ipynb\n",
      "경로: /Users/macbook/코드/데이터 스트럭쳐 / 이름: time_algorithm_complexity.ipynb\n",
      "경로: /Users/macbook/코드/데이터 스트럭쳐 / 이름: linkedlist.ipynb\n",
      "경로: /Users/macbook/코드/데이터 스트럭쳐 / 이름: hashtable.ipynb\n",
      "경로: /Users/macbook/코드/데이터 스트럭쳐 / 이름: tree.ipynb\n",
      "경로: /Users/macbook/코드/데이터 스트럭쳐 / 이름: queue.ipynb\n",
      "경로: /Users/macbook/코드/데이터 스트럭쳐 / 이름: space_algorithm_complexity.ipynb\n",
      "경로: /Users/macbook/코드/데이터 스트럭쳐 / 이름: array.ipynb\n",
      "경로: /Users/macbook/코드/데이터 스트럭쳐 / 이름: stack.ipynb\n",
      "경로: /Users/macbook/코드/데이터 스트럭쳐/.vscode / 이름: settings.json\n",
      "경로: /Users/macbook/코드/VS Code datas / 이름: .DS_Store\n",
      "경로: /Users/macbook/코드/VS Code datas/Navbar / 이름: index.html\n",
      "경로: /Users/macbook/코드/VS Code datas/Navbar / 이름: .DS_Store\n",
      "경로: /Users/macbook/코드/VS Code datas/Navbar / 이름: main.js\n",
      "경로: /Users/macbook/코드/VS Code datas/Navbar / 이름: style.css\n",
      "경로: /Users/macbook/코드/베이직 알고리즘 / 이름: selectionsort.ipynb\n",
      "경로: /Users/macbook/코드/베이직 알고리즘 / 이름: mergesort.ipynb\n",
      "경로: /Users/macbook/코드/베이직 알고리즘 / 이름: quicksort.ipynb\n",
      "경로: /Users/macbook/코드/베이직 알고리즘 / 이름: dp_dc.ipynb\n",
      "경로: /Users/macbook/코드/베이직 알고리즘 / 이름: algorithm_complexity_methods.ipynb\n",
      "경로: /Users/macbook/코드/베이직 알고리즘 / 이름: sequentialsearch.ipynb\n",
      "경로: /Users/macbook/코드/베이직 알고리즘 / 이름: binarysearch.ipynb\n",
      "경로: /Users/macbook/코드/베이직 알고리즘 / 이름: binarysearch_tree.ipynb\n",
      "경로: /Users/macbook/코드/베이직 알고리즘 / 이름: recursivecall.ipynb\n",
      "경로: /Users/macbook/코드/베이직 알고리즘 / 이름: insertionsort.ipynb\n",
      "경로: /Users/macbook/코드/베이직 알고리즘 / 이름: bubblesort.ipynb\n",
      "경로: /Users/macbook/코드/베이직 알고리즘/.vscode / 이름: settings.json\n",
      "경로: /Users/macbook/코드/파이썬기본 / 이름: function.ipynb\n",
      "경로: /Users/macbook/코드/파이썬기본 / 이름: .DS_Store\n",
      "경로: /Users/macbook/코드/파이썬기본 / 이름: read_mode.rtf\n",
      "경로: /Users/macbook/코드/파이썬기본 / 이름: mod1.py\n",
      "경로: /Users/macbook/코드/파이썬기본 / 이름: internal&external.ipynb\n",
      "경로: /Users/macbook/코드/파이썬기본 / 이름: mod2.py\n",
      "경로: /Users/macbook/코드/파이썬기본 / 이름: datatype.ipynb\n",
      "경로: /Users/macbook/코드/파이썬기본 / 이름: function_practice.ipynb\n",
      "경로: /Users/macbook/코드/파이썬기본 / 이름: datatype_practice.ipynb\n",
      "경로: /Users/macbook/코드/파이썬기본 / 이름: exception.ipynb\n",
      "경로: /Users/macbook/코드/파이썬기본 / 이름: test.rtf\n",
      "경로: /Users/macbook/코드/파이썬기본 / 이름: write_mode.rtf\n",
      "경로: /Users/macbook/코드/파이썬기본 / 이름: controlstatement_practice.ipynb\n",
      "경로: /Users/macbook/코드/파이썬기본 / 이름: controlstatement.ipynb\n",
      "경로: /Users/macbook/코드/파이썬기본/기타 / 이름: 제어문.ipynb\n",
      "경로: /Users/macbook/코드/파이썬기본/기타 / 이름: .DS_Store\n",
      "경로: /Users/macbook/코드/파이썬기본/기타 / 이름: 자료형.ipynb\n",
      "경로: /Users/macbook/코드/파이썬기본/기타 / 이름: 함수.ipynb\n",
      "경로: /Users/macbook/코드/파이썬기본/기타 / 이름: numpy.ipynb\n",
      "경로: /Users/macbook/코드/파이썬기본/기타 / 이름: matplotlib, webcrawling.ipynb\n",
      "경로: /Users/macbook/코드/파이썬기본/기타/응용 데이터 / 이름: file.txt\n",
      "경로: /Users/macbook/코드/파이썬기본/기타/응용 데이터 / 이름: write.csv\n",
      "경로: /Users/macbook/코드/파이썬기본/기타/응용 데이터 / 이름: .DS_Store\n",
      "경로: /Users/macbook/코드/파이썬기본/기타/응용 데이터 / 이름: apple_logo.jpg\n",
      "경로: /Users/macbook/코드/파이썬기본/기타/응용 데이터 / 이름: mod2.txt\n",
      "경로: /Users/macbook/코드/파이썬기본/기타/응용 데이터 / 이름: img.png\n",
      "경로: /Users/macbook/코드/파이썬기본/기타/응용 데이터 / 이름: im_save.jpg\n",
      "경로: /Users/macbook/코드/파이썬기본/기타/응용 데이터 / 이름: mod1.py\n",
      "경로: /Users/macbook/코드/파이썬기본/기타/응용 데이터 / 이름: Game Boy Longplay [009] Mega Man Dr Wilys Revenge.mp4\n",
      "경로: /Users/macbook/코드/파이썬기본/기타/응용 데이터/thumb / 이름: 부활.jpg\n",
      "경로: /Users/macbook/코드/파이썬기본/기타/응용 데이터/thumb / 이름: 가버나움.jpg\n",
      "경로: /Users/macbook/코드/파이썬기본/기타/응용 데이터/thumb / 이름: 너와 극장에서.jpg\n",
      "경로: /Users/macbook/코드/파이썬기본/기타/응용 데이터/thumb / 이름: 조디악.jpg\n",
      "경로: /Users/macbook/코드/파이썬기본/기타/응용 데이터/thumb / 이름: 미스 사이공  25주년 특별 공연.jpg\n",
      "경로: /Users/macbook/코드/파이썬기본/기타/응용 데이터/thumb / 이름: 로렌스 애니웨이 .jpg\n",
      "경로: /Users/macbook/코드/파이썬기본/기타/응용 데이터/thumb / 이름: 고양이 집사.jpg\n",
      "경로: /Users/macbook/코드/파이썬기본/기타/응용 데이터/thumb / 이름: 광주비디오  사라진 4시간.jpg\n",
      "경로: /Users/macbook/코드/파이썬기본/기타/응용 데이터/thumb / 이름: 비행.jpg\n",
      "경로: /Users/macbook/코드/파이썬기본/기타/응용 데이터/thumb / 이름: 보희와 녹양.jpg\n",
      "경로: /Users/macbook/코드/파이썬기본/기타/응용 데이터/thumb / 이름: 안녕, 미누.jpg\n",
      "경로: /Users/macbook/코드/파이썬기본/기타/응용 데이터/thumb / 이름: 벌새.jpg\n",
      "경로: /Users/macbook/코드/파이썬기본/기타/응용 데이터/thumb / 이름: 더 차일드.jpg\n",
      "경로: /Users/macbook/코드/파이썬기본/기타/응용 데이터/thumb / 이름: 욕창.jpg\n",
      "경로: /Users/macbook/코드/파이썬기본/기타/응용 데이터/thumb / 이름: 몽상가들.jpg\n",
      "경로: /Users/macbook/코드/파이썬기본/기타/응용 데이터/thumb / 이름: 캐리.jpg\n",
      "경로: /Users/macbook/코드/파이썬기본/기타/응용 데이터/thumb / 이름: 엘머 갠트리.jpg\n",
      "경로: /Users/macbook/코드/파이썬기본/기타/응용 데이터/thumb / 이름: 미스비헤이비어.jpg\n",
      "경로: /Users/macbook/코드/파이썬기본/기타/응용 데이터/thumb / 이름: 프리즈너.jpg\n",
      "경로: /Users/macbook/코드/파이썬기본/기타/응용 데이터/thumb / 이름: 엔딩스 비기닝스.jpg\n",
      "경로: /Users/macbook/코드/파이썬기본/기타/응용 데이터/thumb / 이름: 우리들.jpg\n",
      "경로: /Users/macbook/코드/파이썬기본/기타/응용 데이터/thumb / 이름: 지저귀는 새는 날지 않는다.jpg\n",
      "경로: /Users/macbook/코드/파이썬기본/기타/응용 데이터/thumb / 이름: 이태원.jpg\n",
      "경로: /Users/macbook/코드/파이썬기본/기타/응용 데이터/thumb / 이름: 몽마르트 파파.jpg\n",
      "경로: /Users/macbook/코드/파이썬기본/기타/응용 데이터/thumb / 이름: 밤의 문이 열린다.jpg\n",
      "경로: /Users/macbook/코드/파이썬기본/기타/응용 데이터/thumb / 이름: 테우리.jpg\n",
      "경로: /Users/macbook/코드/파이썬기본/기타/응용 데이터/thumb / 이름: 레이니 데이 인 뉴욕.jpg\n",
      "경로: /Users/macbook/코드/파이썬기본/기타/응용 데이터/thumb / 이름: 밤쉘  세상을 바꾼 폭탄선언.jpg\n",
      "경로: /Users/macbook/코드/파이썬기본/기타/응용 데이터/thumb / 이름: 알라딘.jpg\n",
      "경로: /Users/macbook/코드/파이썬기본/기타/응용 데이터/thumb / 이름: 내일을 위한 시간.jpg\n",
      "경로: /Users/macbook/코드/파이썬기본/기타/응용 데이터/thumb / 이름: 울지마 톤즈 2   슈크란 바바.jpg\n",
      "경로: /Users/macbook/코드/파이썬기본/기타/응용 데이터/thumb / 이름: 산티아고의 흰 지팡이.jpg\n",
      "경로: /Users/macbook/코드/파이썬기본/기타/응용 데이터/thumb / 이름: 트랜짓.jpg\n",
      "경로: /Users/macbook/코드/파이썬기본/기타/응용 데이터/thumb / 이름: 들리나요 .jpg\n",
      "경로: /Users/macbook/코드/파이썬기본/기타/응용 데이터/thumb / 이름: 아이 캔 온리 이매진.jpg\n",
      "경로: /Users/macbook/코드/파이썬기본/기타/응용 데이터/thumb / 이름: 고 피쉬!.jpg\n",
      "경로: /Users/macbook/코드/파이썬기본/기타/응용 데이터/thumb / 이름: 바르다가 사랑한 얼굴들.jpg\n",
      "경로: /Users/macbook/코드/파이썬기본/기타/응용 데이터/thumb / 이름: 맛있는 녀석들.jpg\n",
      "경로: /Users/macbook/코드/파이썬기본/기타/응용 데이터/thumb / 이름: 타오르는 여인의 초상.jpg\n",
      "경로: /Users/macbook/코드/파이썬기본/기타/응용 데이터/thumb / 이름: 부에나 비스타 소셜 클럽.jpg\n",
      "경로: /Users/macbook/코드/파이썬기본/기타/응용 데이터/thumb / 이름: 소년시절의 너.jpg\n",
      "경로: /Users/macbook/코드/파이썬기본/기타/응용 데이터/thumb / 이름: 블루 아워.jpg\n",
      "경로: /Users/macbook/코드/파이썬기본/기타/응용 데이터/thumb / 이름: 바다로 가자.jpg\n",
      "경로: /Users/macbook/코드/파이썬기본/기타/응용 데이터/thumb / 이름: 쓰루 더 파이어.jpg\n",
      "경로: /Users/macbook/코드/파이썬기본/기타/응용 데이터/thumb / 이름: 이 세상 끝까지.jpg\n",
      "경로: /Users/macbook/코드/파이썬기본/기타/응용 데이터/thumb / 이름: 아디오스.jpg\n",
      "경로: /Users/macbook/코드/파이썬기본/기타/응용 데이터/thumb / 이름: 뮤지컬 쉬 러브즈 미.jpg\n",
      "경로: /Users/macbook/코드/파이썬기본/기타/응용 데이터/thumb / 이름: 작은 빛.jpg\n",
      "경로: /Users/macbook/코드/파이썬기본/기타/응용 데이터/thumb / 이름: 에이브의 쿠킹 다이어리.jpg\n",
      "경로: /Users/macbook/코드/파이썬기본/기타/응용 데이터/thumb / 이름: 산상수훈.jpg\n",
      "경로: /Users/macbook/코드/파이썬기본/기타/응용 데이터/thumb / 이름: 이장.jpg\n",
      "경로: /Users/macbook/코드/파이썬기본/기타/응용 데이터/thumb / 이름: 파도를 걷는 소년.jpg\n",
      "경로: /Users/macbook/코드/파이썬기본/기타/응용 데이터/thumb / 이름: 인생 후르츠.jpg\n",
      "경로: /Users/macbook/코드/파이썬기본/기타/응용 데이터/thumb / 이름: 호우시절.jpg\n",
      "경로: /Users/macbook/코드/파이썬기본/기타/응용 데이터/thumb / 이름: 패왕별희 디 오리지널.jpg\n",
      "경로: /Users/macbook/코드/파이썬기본/기타/응용 데이터/thumb / 이름: 바닷마을 다이어리.jpg\n",
      "경로: /Users/macbook/코드/파이썬기본/기타/응용 데이터/thumb / 이름: 소리꾼.jpg\n",
      "경로: /Users/macbook/코드/파이썬기본/기타/응용 데이터/thumb / 이름: 징기스칸.jpg\n",
      "경로: /Users/macbook/코드/파이썬기본/기타/응용 데이터/thumb / 이름: 나의 노래는 멀리멀리.jpg\n",
      "경로: /Users/macbook/코드/파이썬기본/기타/응용 데이터/thumb / 이름: 울프 콜.jpg\n",
      "경로: /Users/macbook/코드/파이썬기본/기타/응용 데이터/thumb / 이름: 불량한 가족.jpg\n",
      "경로: /Users/macbook/코드/파이썬기본/기타/응용 데이터/thumb / 이름: 전망 좋은 방.jpg\n",
      "경로: /Users/macbook/코드/파이썬기본/기타/응용 데이터/thumb / 이름: 한낮의 피크닉.jpg\n",
      "경로: /Users/macbook/코드/파이썬기본/기타/응용 데이터/thumb / 이름: 톰보이.jpg\n",
      "경로: /Users/macbook/코드/파이썬기본/기타/응용 데이터/thumb / 이름: 미션.jpg\n",
      "경로: /Users/macbook/코드/파이썬기본/기타/응용 데이터/thumb / 이름: 찬실이는 복도 많지.jpg\n",
      "경로: /Users/macbook/코드/파이썬기본/기타/응용 데이터/thumb / 이름: 아들.jpg\n",
      "경로: /Users/macbook/코드/파이썬기본/기타/응용 데이터/thumb / 이름: 킹 오브 프리즘 올 스타즈 -프리즘 쇼☆베스트10-.jpg\n",
      "경로: /Users/macbook/코드/파이썬기본/기타/응용 데이터/thumb / 이름: 시라이.jpg\n",
      "경로: /Users/macbook/코드/파이썬기본/기타/응용 데이터/thumb / 이름: 파리 텍사스.jpg\n",
      "경로: /Users/macbook/코드/파이썬기본/기타/응용 데이터/thumb / 이름: 원 데이.jpg\n",
      "경로: /Users/macbook/코드/파이썬기본/기타/응용 데이터/thumb / 이름: 온워드  단 하루의 기적.jpg\n",
      "경로: /Users/macbook/코드/파이썬기본/기타/응용 데이터/thumb / 이름: 파밍 보이즈.jpg\n",
      "경로: /Users/macbook/코드/파이썬기본/기타/응용 데이터/thumb / 이름: 제네시스  세상의 소금.jpg\n",
      "경로: /Users/macbook/코드/파이썬기본/기타/응용 데이터/thumb / 이름: 깡패와 소녀.jpg\n",
      "경로: /Users/macbook/코드/파이썬기본/기타/응용 데이터/thumb / 이름: 레베카.jpg\n",
      "경로: /Users/macbook/코드/파이썬기본/기타/응용 데이터/thumb / 이름: 돈 컴 노킹.jpg\n",
      "경로: /Users/macbook/코드/파이썬기본/기타/응용 데이터/thumb / 이름: 쉘부르의 우산.jpg\n",
      "경로: /Users/macbook/코드/파이썬기본/기타/응용 데이터/thumb / 이름: 트롤  월드 투어.jpg\n",
      "경로: /Users/macbook/코드/파이썬기본/기타/응용 데이터/thumb / 이름: 파리의 인어.jpg\n",
      "경로: /Users/macbook/코드/파이썬기본/기타/응용 데이터/thumb / 이름: 초미의 관심사.jpg\n",
      "경로: /Users/macbook/코드/파이썬기본/기타/응용 데이터/thumb / 이름: 환상의 마로나.jpg\n",
      "경로: /Users/macbook/코드/파이썬기본/기타/응용 데이터/thumb / 이름: 로마 위드 러브.jpg\n",
      "경로: /Users/macbook/코드/파이썬기본/기타/응용 데이터/thumb / 이름: 밤쉘.jpg\n",
      "경로: /Users/macbook/코드/파이썬기본/기타/응용 데이터/thumb / 이름: 로제타.jpg\n",
      "경로: /Users/macbook/코드/파이썬기본/기타/응용 데이터/thumb / 이름: 시티 오브 갓.jpg\n",
      "경로: /Users/macbook/코드/파이썬기본/기타/응용 데이터/thumb / 이름: 프리저베이션 홀 재즈밴드.jpg\n",
      "경로: /Users/macbook/코드/파이썬기본/기타/응용 데이터/thumb / 이름: 위대한 쇼맨.jpg\n",
      "경로: /Users/macbook/코드/파이썬기본/기타/응용 데이터/thumb / 이름: 나는보리.jpg\n",
      "경로: /Users/macbook/코드/파이썬기본/기타/응용 데이터/thumb / 이름: 우리집 똥멍청이.jpg\n",
      "경로: /Users/macbook/코드/파이썬기본/기타/응용 데이터/thumb / 이름: 래미의 드래곤월드 구출작전.jpg\n",
      "경로: /Users/macbook/코드/파이썬기본/기타/응용 데이터/thumb / 이름: 안녕, 나의 소울메이트.jpg\n",
      "경로: /Users/macbook/코드/파이썬기본/기타/응용 데이터/thumb / 이름: 팬데믹.jpg\n",
      "경로: /Users/macbook/코드/파이썬기본/기타/응용 데이터/thumb / 이름: 마티아스와 막심.jpg\n",
      "경로: /Users/macbook/코드/파이썬기본/기타/응용 데이터/thumb / 이름: 야구소녀.jpg\n",
      "경로: /Users/macbook/코드/파이썬기본/기타/응용 데이터/thumb / 이름: 16세의 사운드트랙.jpg\n",
      "경로: /Users/macbook/코드/파이썬기본/기타/응용 데이터/thumb / 이름: 죽도 서핑 다이어리.jpg\n",
      "경로: /Users/macbook/코드/파이썬기본/기타/응용 데이터/thumb / 이름: 피아니스트의 전설.jpg\n",
      "경로: /Users/macbook/코드/파이썬기본/기타/응용 데이터/thumb / 이름: 트로이.jpg\n",
      "경로: /Users/macbook/코드/파이썬기본/기타/응용 데이터/thumb / 이름: 에이리언 2.jpg\n",
      "경로: /Users/macbook/코드/파이썬기본/기타/응용 데이터/thumb / 이름: 다가오는 것들.jpg\n",
      "경로: /Users/macbook/코드/파이썬기본/기타/응용 데이터/thumb / 이름: 스타 이즈 본.jpg\n",
      "경로: /Users/macbook/코드/파이썬기본/기타/응용 데이터/thumb / 이름: 라라랜드.jpg\n",
      "경로: /Users/macbook/코드/파이썬기본/기타/응용 데이터/thumb / 이름: 프랑스여자.jpg\n",
      "경로: /Users/macbook/코드/파이썬기본/기타/응용 데이터/thumb / 이름: 슈퍼 레이스.jpg\n",
      "경로: /Users/macbook/코드/파이썬기본/기타/응용 데이터/thumb / 이름: 아무튼, 아담.jpg\n",
      "경로: /Users/macbook/코드/파이썬기본/기타/응용 데이터/thumb / 이름: 너와 파도를 탈 수 있다면.jpg\n",
      "경로: /Users/macbook/코드/파이썬기본/기타/응용 데이터/thumb / 이름: 소공녀.jpg\n",
      "경로: /Users/macbook/코드/파이썬기본/기타/응용 데이터/thumb / 이름: 피나.jpg\n",
      "경로: /Users/macbook/코드/파이썬기본/기타/응용 데이터/thumb / 이름: 뮤지컬 브로드웨이 42번가.jpg\n",
      "경로: /Users/macbook/코드/파이썬기본/기타/응용 데이터/thumb / 이름: 인비저블 라이프.jpg\n",
      "경로: /Users/macbook/코드/파이썬기본/기타/응용 데이터/thumb / 이름: 인베이젼 2020.jpg\n",
      "경로: /Users/macbook/코드/파이썬기본/기타/응용 데이터/thumb / 이름: #살아있다.jpg\n",
      "경로: /Users/macbook/코드/파이썬기본/기타/응용 데이터/thumb / 이름: 국도극장.jpg\n",
      "경로: /Users/macbook/코드/파이썬기본/기타/응용 데이터/thumb / 이름: 시네마 천국.jpg\n",
      "경로: /Users/macbook/코드/파이썬기본/기타/응용 데이터/thumb / 이름: 집에 돌아오면, 언제나 아내가 죽은 척을 하고 있다.jpg\n",
      "경로: /Users/macbook/코드/파이썬기본/기타/응용 데이터/thumb / 이름: 비바리움.jpg\n",
      "경로: /Users/macbook/코드/파이썬기본/기타/응용 데이터/thumb / 이름: 열차 안의 낯선 자들.jpg\n",
      "경로: /Users/macbook/코드/파이썬기본/기타/응용 데이터/thumb / 이름: 베스트 오퍼.jpg\n",
      "경로: /Users/macbook/코드/파이썬기본/기타/응용 데이터/thumb / 이름: 반도.jpg\n",
      "경로: /Users/macbook/코드/파이썬기본/기타/응용 데이터/thumb / 이름: 기억의 전쟁.jpg\n",
      "경로: /Users/macbook/코드/파이썬기본/기타/응용 데이터/thumb / 이름: 카페 벨에포크.jpg\n",
      "경로: /Users/macbook/코드/파이썬기본/기타/응용 데이터/thumb / 이름: 헤이트풀8.jpg\n",
      "경로: /Users/macbook/코드/파이썬기본/기타/응용 데이터/thumb / 이름: 언노운 걸.jpg\n",
      "경로: /Users/macbook/코드/파이썬기본/기타/응용 데이터/thumb / 이름: 성혜의 나라.jpg\n",
      "경로: /Users/macbook/코드/파이썬기본/기타/응용 데이터/thumb / 이름: 그레텔과 헨젤.jpg\n",
      "경로: /Users/macbook/코드/파이썬기본/기타/응용 데이터/thumb / 이름: 바람의 언덕.jpg\n",
      "경로: /Users/macbook/코드/파이썬기본/기타/응용 데이터/thumb / 이름: 결백.jpg\n",
      "경로: /Users/macbook/코드/파이썬기본/기타/응용 데이터/thumb / 이름: 파리 오페라 발레단.jpg\n",
      "경로: /Users/macbook/코드/파이썬기본/기타/응용 데이터/thumb / 이름: 팡파레.jpg\n",
      "경로: /Users/macbook/코드/파이썬기본/기타/응용 데이터/thumb / 이름: 에베레스트.jpg\n",
      "경로: /Users/macbook/코드/파이썬기본/기타/응용 데이터/thumb / 이름: 플라이.jpg\n",
      "경로: /Users/macbook/코드/파이썬기본/기타/응용 데이터/thumb / 이름: 부력.jpg\n",
      "경로: /Users/macbook/코드/파이썬기본/기타/응용 데이터/thumb / 이름: 백년의 기억.jpg\n",
      "경로: /Users/macbook/코드/파이썬기본/기타/응용 데이터/thumb / 이름: 다크 나이트.jpg\n",
      "경로: /Users/macbook/코드/파이썬기본/기타/응용 데이터/__pycache__ / 이름: mod2.cpython-37.pyc\n",
      "경로: /Users/macbook/코드/파이썬기본/기타/응용 데이터/__pycache__ / 이름: mod1.cpython-37.pyc\n",
      "경로: /Users/macbook/코드/파이썬기본/기타/응용 데이터/공유 / 이름: 도로교통공단_전국_사망교통사고정보_2018_.csv\n",
      "경로: /Users/macbook/코드/파이썬기본/기타/응용 데이터/공유 / 이름: .DS_Store\n",
      "경로: /Users/macbook/코드/파이썬기본/기타/응용 데이터/공유 / 이름: covid_19_data.csv\n",
      "경로: /Users/macbook/코드/파이썬기본/기타/응용 데이터/공유 / 이름: cov_count.json\n",
      "경로: /Users/macbook/코드/파이썬기본/기타/응용 데이터/공유 / 이름: vis_annotation_modify_path.json\n",
      "경로: /Users/macbook/코드/파이썬기본/기타/응용 데이터/공유 / 이름: covid_19_data_json.json\n",
      "경로: /Users/macbook/코드/파이썬기본/기타/응용 데이터/공유 / 이름: write2.csv\n",
      "경로: /Users/macbook/코드/파이썬기본/기타/응용 데이터/공유 / 이름: motorcycle-01.xml\n",
      "경로: /Users/macbook/코드/파이썬기본/기타/응용 데이터/megaman_images / 이름: megaman_23.jpg\n",
      "경로: /Users/macbook/코드/파이썬기본/기타/응용 데이터/megaman_images / 이름: megaman_37.jpg\n",
      "경로: /Users/macbook/코드/파이썬기본/기타/응용 데이터/megaman_images / 이름: megaman_36.jpg\n",
      "경로: /Users/macbook/코드/파이썬기본/기타/응용 데이터/megaman_images / 이름: megaman_22.jpg\n",
      "경로: /Users/macbook/코드/파이썬기본/기타/응용 데이터/megaman_images / 이름: megaman_34.jpg\n",
      "경로: /Users/macbook/코드/파이썬기본/기타/응용 데이터/megaman_images / 이름: megaman_20.jpg\n",
      "경로: /Users/macbook/코드/파이썬기본/기타/응용 데이터/megaman_images / 이름: megaman_21.jpg\n",
      "경로: /Users/macbook/코드/파이썬기본/기타/응용 데이터/megaman_images / 이름: megaman_35.jpg\n",
      "경로: /Users/macbook/코드/파이썬기본/기타/응용 데이터/megaman_images / 이름: megaman_19.jpg\n",
      "경로: /Users/macbook/코드/파이썬기본/기타/응용 데이터/megaman_images / 이름: megaman_31.jpg\n",
      "경로: /Users/macbook/코드/파이썬기본/기타/응용 데이터/megaman_images / 이름: megaman_25.jpg\n",
      "경로: /Users/macbook/코드/파이썬기본/기타/응용 데이터/megaman_images / 이름: megaman_24.jpg\n",
      "경로: /Users/macbook/코드/파이썬기본/기타/응용 데이터/megaman_images / 이름: megaman_30.jpg\n",
      "경로: /Users/macbook/코드/파이썬기본/기타/응용 데이터/megaman_images / 이름: megaman_18.jpg\n",
      "경로: /Users/macbook/코드/파이썬기본/기타/응용 데이터/megaman_images / 이름: megaman_26.jpg\n",
      "경로: /Users/macbook/코드/파이썬기본/기타/응용 데이터/megaman_images / 이름: megaman_32.jpg\n",
      "경로: /Users/macbook/코드/파이썬기본/기타/응용 데이터/megaman_images / 이름: megaman_33.jpg\n",
      "경로: /Users/macbook/코드/파이썬기본/기타/응용 데이터/megaman_images / 이름: megaman_27.jpg\n",
      "경로: /Users/macbook/코드/파이썬기본/기타/응용 데이터/megaman_images / 이름: megaman_40.jpg\n",
      "경로: /Users/macbook/코드/파이썬기본/기타/응용 데이터/megaman_images / 이름: megaman_54.jpg\n",
      "경로: /Users/macbook/코드/파이썬기본/기타/응용 데이터/megaman_images / 이름: megaman_68.jpg\n",
      "경로: /Users/macbook/코드/파이썬기본/기타/응용 데이터/megaman_images / 이름: megaman_69.jpg\n",
      "경로: /Users/macbook/코드/파이썬기본/기타/응용 데이터/megaman_images / 이름: megaman_55.jpg\n",
      "경로: /Users/macbook/코드/파이썬기본/기타/응용 데이터/megaman_images / 이름: megaman_41.jpg\n",
      "경로: /Users/macbook/코드/파이썬기본/기타/응용 데이터/megaman_images / 이름: megaman_57.jpg\n",
      "경로: /Users/macbook/코드/파이썬기본/기타/응용 데이터/megaman_images / 이름: megaman_43.jpg\n",
      "경로: /Users/macbook/코드/파이썬기본/기타/응용 데이터/megaman_images / 이름: megaman_9.jpg\n",
      "경로: /Users/macbook/코드/파이썬기본/기타/응용 데이터/megaman_images / 이름: megaman_8.jpg\n",
      "경로: /Users/macbook/코드/파이썬기본/기타/응용 데이터/megaman_images / 이름: megaman_42.jpg\n",
      "경로: /Users/macbook/코드/파이썬기본/기타/응용 데이터/megaman_images / 이름: megaman_56.jpg\n",
      "경로: /Users/macbook/코드/파이썬기본/기타/응용 데이터/megaman_images / 이름: megaman_52.jpg\n",
      "경로: /Users/macbook/코드/파이썬기본/기타/응용 데이터/megaman_images / 이름: megaman_46.jpg\n",
      "경로: /Users/macbook/코드/파이썬기본/기타/응용 데이터/megaman_images / 이름: megaman_47.jpg\n",
      "경로: /Users/macbook/코드/파이썬기본/기타/응용 데이터/megaman_images / 이름: megaman_53.jpg\n",
      "경로: /Users/macbook/코드/파이썬기본/기타/응용 데이터/megaman_images / 이름: megaman_45.jpg\n",
      "경로: /Users/macbook/코드/파이썬기본/기타/응용 데이터/megaman_images / 이름: megaman_51.jpg\n",
      "경로: /Users/macbook/코드/파이썬기본/기타/응용 데이터/megaman_images / 이름: megaman_50.jpg\n",
      "경로: /Users/macbook/코드/파이썬기본/기타/응용 데이터/megaman_images / 이름: megaman_44.jpg\n",
      "경로: /Users/macbook/코드/파이썬기본/기타/응용 데이터/megaman_images / 이름: megaman_61.jpg\n",
      "경로: /Users/macbook/코드/파이썬기본/기타/응용 데이터/megaman_images / 이름: megaman_49.jpg\n",
      "경로: /Users/macbook/코드/파이썬기본/기타/응용 데이터/megaman_images / 이름: megaman_3.jpg\n",
      "경로: /Users/macbook/코드/파이썬기본/기타/응용 데이터/megaman_images / 이름: megaman_2.jpg\n",
      "경로: /Users/macbook/코드/파이썬기본/기타/응용 데이터/megaman_images / 이름: megaman_48.jpg\n",
      "경로: /Users/macbook/코드/파이썬기본/기타/응용 데이터/megaman_images / 이름: megaman_60.jpg\n",
      "경로: /Users/macbook/코드/파이썬기본/기타/응용 데이터/megaman_images / 이름: megaman_62.jpg\n",
      "경로: /Users/macbook/코드/파이썬기본/기타/응용 데이터/megaman_images / 이름: megaman_0.jpg\n",
      "경로: /Users/macbook/코드/파이썬기본/기타/응용 데이터/megaman_images / 이름: megaman_1.jpg\n",
      "경로: /Users/macbook/코드/파이썬기본/기타/응용 데이터/megaman_images / 이름: megaman_63.jpg\n",
      "경로: /Users/macbook/코드/파이썬기본/기타/응용 데이터/megaman_images / 이름: megaman_67.jpg\n",
      "경로: /Users/macbook/코드/파이썬기본/기타/응용 데이터/megaman_images / 이름: megaman_5.jpg\n",
      "경로: /Users/macbook/코드/파이썬기본/기타/응용 데이터/megaman_images / 이름: megaman_4.jpg\n",
      "경로: /Users/macbook/코드/파이썬기본/기타/응용 데이터/megaman_images / 이름: megaman_66.jpg\n",
      "경로: /Users/macbook/코드/파이썬기본/기타/응용 데이터/megaman_images / 이름: megaman_58.jpg\n",
      "경로: /Users/macbook/코드/파이썬기본/기타/응용 데이터/megaman_images / 이름: megaman_64.jpg\n",
      "경로: /Users/macbook/코드/파이썬기본/기타/응용 데이터/megaman_images / 이름: megaman_70.jpg\n",
      "경로: /Users/macbook/코드/파이썬기본/기타/응용 데이터/megaman_images / 이름: megaman_6.jpg\n",
      "경로: /Users/macbook/코드/파이썬기본/기타/응용 데이터/megaman_images / 이름: megaman_7.jpg\n",
      "경로: /Users/macbook/코드/파이썬기본/기타/응용 데이터/megaman_images / 이름: megaman_71.jpg\n",
      "경로: /Users/macbook/코드/파이썬기본/기타/응용 데이터/megaman_images / 이름: megaman_65.jpg\n",
      "경로: /Users/macbook/코드/파이썬기본/기타/응용 데이터/megaman_images / 이름: megaman_59.jpg\n",
      "경로: /Users/macbook/코드/파이썬기본/기타/응용 데이터/megaman_images / 이름: megaman_16.jpg\n",
      "경로: /Users/macbook/코드/파이썬기본/기타/응용 데이터/megaman_images / 이름: megaman_17.jpg\n",
      "경로: /Users/macbook/코드/파이썬기본/기타/응용 데이터/megaman_images / 이름: megaman_15.jpg\n",
      "경로: /Users/macbook/코드/파이썬기본/기타/응용 데이터/megaman_images / 이름: megaman_29.jpg\n",
      "경로: /Users/macbook/코드/파이썬기본/기타/응용 데이터/megaman_images / 이름: megaman_28.jpg\n",
      "경로: /Users/macbook/코드/파이썬기본/기타/응용 데이터/megaman_images / 이름: megaman_14.jpg\n",
      "경로: /Users/macbook/코드/파이썬기본/기타/응용 데이터/megaman_images / 이름: megaman_38.jpg\n",
      "경로: /Users/macbook/코드/파이썬기본/기타/응용 데이터/megaman_images / 이름: megaman_10.jpg\n",
      "경로: /Users/macbook/코드/파이썬기본/기타/응용 데이터/megaman_images / 이름: megaman_11.jpg\n",
      "경로: /Users/macbook/코드/파이썬기본/기타/응용 데이터/megaman_images / 이름: megaman_39.jpg\n",
      "경로: /Users/macbook/코드/파이썬기본/기타/응용 데이터/megaman_images / 이름: megaman_13.jpg\n",
      "경로: /Users/macbook/코드/파이썬기본/기타/응용 데이터/megaman_images / 이름: megaman_12.jpg\n",
      "경로: /Users/macbook/코드/파이썬기본/기타/응용 데이터/data / 이름: 스타 이즈 본\n",
      "경로: /Users/macbook/코드/파이썬기본/기타/응용 데이터/data / 이름: 패왕별희 디 오리지널\n",
      "경로: /Users/macbook/코드/파이썬기본/기타/응용 데이터/data / 이름: 래미의 드래곤월드 구출작전\n",
      "경로: /Users/macbook/코드/파이썬기본/기타/응용 데이터/data / 이름: 블루 아워\n",
      "경로: /Users/macbook/코드/파이썬기본/기타/응용 데이터/data / 이름: 트롤\n",
      "경로: /Users/macbook/코드/파이썬기본/기타/응용 데이터/data / 이름: 쓰루 더 파이어\n",
      "경로: /Users/macbook/코드/파이썬기본/기타/응용 데이터/data / 이름: #살아있다\n",
      "경로: /Users/macbook/코드/파이썬기본/기타/응용 데이터/data / 이름: 환상의 마로나\n",
      "경로: /Users/macbook/코드/파이썬기본/기타/응용 데이터/data / 이름: 16세의 사운드트랙\n",
      "경로: /Users/macbook/코드/파이썬기본/기타/응용 데이터/data / 이름: 고 피쉬!\n",
      "경로: /Users/macbook/코드/파이썬기본/기타/응용 데이터/data / 이름: 백년의 기억\n",
      "경로: /Users/macbook/코드/파이썬기본/기타/응용 데이터/data / 이름: 다가오는 것들\n",
      "경로: /Users/macbook/코드/파이썬기본/기타/응용 데이터/data / 이름: 톰보이\n",
      "경로: /Users/macbook/코드/파이썬기본/기타/응용 데이터/data / 이름: 트로이\n",
      "경로: /Users/macbook/코드/파이썬기본/기타/응용 데이터/data / 이름: 시네마 천국\n",
      "경로: /Users/macbook/코드/파이썬기본/기타/응용 데이터/data / 이름: 한낮의 피크닉\n",
      "경로: /Users/macbook/코드/파이썬기본/기타/응용 데이터/data / 이름: 반도\n",
      "경로: /Users/macbook/코드/파이썬기본/기타/응용 데이터/data / 이름: 킹 오브 프리즘 올 스타즈 -프리즘 쇼☆베스트10-\n",
      "경로: /Users/macbook/코드/파이썬기본/기타/응용 데이터/data / 이름: .DS_Store\n",
      "경로: /Users/macbook/코드/파이썬기본/기타/응용 데이터/data / 이름: 불량한 가족\n",
      "경로: /Users/macbook/코드/파이썬기본/기타/응용 데이터/data / 이름: dog2.jpg\n",
      "경로: /Users/macbook/코드/파이썬기본/기타/응용 데이터/data / 이름: 온워드\n",
      "경로: /Users/macbook/코드/파이썬기본/기타/응용 데이터/data / 이름: 마티아스와 막심\n",
      "경로: /Users/macbook/코드/파이썬기본/기타/응용 데이터/data / 이름: 나는보리\n",
      "경로: /Users/macbook/코드/파이썬기본/기타/응용 데이터/data / 이름: dog1.jpg\n",
      "경로: /Users/macbook/코드/파이썬기본/기타/응용 데이터/data / 이름: 에베레스트\n",
      "경로: /Users/macbook/코드/파이썬기본/기타/응용 데이터/data / 이름: 호우시절\n",
      "경로: /Users/macbook/코드/파이썬기본/기타/응용 데이터/data / 이름: 우리들\n",
      "경로: /Users/macbook/코드/파이썬기본/기타/응용 데이터/data / 이름: 가버나움\n",
      "경로: /Users/macbook/코드/파이썬기본/기타/응용 데이터/data / 이름: 원 데이\n",
      "경로: /Users/macbook/코드/파이썬기본/기타/응용 데이터/data / 이름: 에이브의 쿠킹 다이어리\n",
      "경로: /Users/macbook/코드/파이썬기본/기타/응용 데이터/data / 이름: 바다로 가자\n",
      "경로: /Users/macbook/코드/파이썬기본/기타/응용 데이터/data / 이름: 부력\n",
      "경로: /Users/macbook/코드/파이썬기본/기타/응용 데이터/data / 이름: 슈퍼 레이스\n",
      "경로: /Users/macbook/코드/파이썬기본/기타/응용 데이터/data / 이름: 찬실이는 복도 많지\n",
      "경로: /Users/macbook/코드/파이썬기본/기타/응용 데이터/data / 이름: 트랜짓\n",
      "경로: /Users/macbook/코드/파이썬기본/기타/응용 데이터/data / 이름: 광주비디오\n",
      "경로: /Users/macbook/코드/파이썬기본/기타/응용 데이터/data / 이름: 레이니 데이 인 뉴욕\n",
      "경로: /Users/macbook/코드/파이썬기본/기타/응용 데이터/data / 이름: 피아니스트의 전설\n",
      "경로: /Users/macbook/코드/파이썬기본/기타/응용 데이터/data / 이름: 라라랜드\n",
      "경로: /Users/macbook/코드/파이썬기본/기타/응용 데이터/data / 이름: 프리즈너\n",
      "경로: /Users/macbook/코드/파이썬기본/기타/응용 데이터/data / 이름: 테우리\n",
      "경로: /Users/macbook/코드/파이썬기본/기타/응용 데이터/data / 이름: 몽마르트 파파\n",
      "경로: /Users/macbook/코드/파이썬기본/기타/응용 데이터/data / 이름: 맛있는 녀석들\n",
      "경로: /Users/macbook/코드/파이썬기본/기타/응용 데이터/data / 이름: 기억의 전쟁\n",
      "경로: /Users/macbook/코드/파이썬기본/기타/응용 데이터/data / 이름: 열차 안의 낯선 자들\n",
      "경로: /Users/macbook/코드/파이썬기본/기타/응용 데이터/data / 이름: 야구소녀\n",
      "경로: /Users/macbook/코드/파이썬기본/기타/응용 데이터/data / 이름: 타오르는 여인의 초상\n",
      "경로: /Users/macbook/코드/파이썬기본/기타/응용 데이터/data / 이름: 소리꾼\n",
      "경로: /Users/macbook/코드/파이썬기본/기타/응용 데이터/data / 이름: 프랑스여자\n",
      "경로: /Users/macbook/코드/파이썬기본/기타/응용 데이터/data / 이름: 알라딘\n",
      "경로: /Users/macbook/코드/파이썬기본/기타/응용 데이터/data / 이름: 아이 캔 온리 이매진\n",
      "경로: /Users/macbook/코드/파이썬기본/기타/응용 데이터/data / 이름: 밤쉘\n",
      "경로: /Users/macbook/코드/파이썬기본/기타/응용 데이터/data / 이름: 아무튼, 아담\n",
      "경로: /Users/macbook/코드/파이썬기본/기타/응용 데이터/data / 이름: 안녕, 미누\n",
      "경로: /Users/macbook/코드/파이썬기본/기타/응용 데이터/data / 이름: 아디오스\n",
      "경로: /Users/macbook/코드/파이썬기본/기타/응용 데이터/data / 이름: 로제타\n",
      "경로: /Users/macbook/코드/파이썬기본/기타/응용 데이터/data / 이름: 시라이\n",
      "경로: /Users/macbook/코드/파이썬기본/기타/응용 데이터/data / 이름: 팡파레\n",
      "경로: /Users/macbook/코드/파이썬기본/기타/응용 데이터/data / 이름: 다크 나이트\n",
      "경로: /Users/macbook/코드/파이썬기본/기타/응용 데이터/data / 이름: 미션\n",
      "경로: /Users/macbook/코드/파이썬기본/기타/응용 데이터/data / 이름: 국도극장\n",
      "경로: /Users/macbook/코드/파이썬기본/기타/응용 데이터/data / 이름: 그레텔과 헨젤\n",
      "경로: /Users/macbook/코드/파이썬기본/기타/응용 데이터/data / 이름: 전망 좋은 방\n",
      "경로: /Users/macbook/코드/파이썬기본/기타/응용 데이터/data / 이름: 카페 벨에포크\n",
      "경로: /Users/macbook/코드/파이썬기본/기타/응용 데이터/data / 이름: 벌새\n",
      "경로: /Users/macbook/코드/파이썬기본/기타/응용 데이터/data / 이름: 소년시절의 너\n",
      "경로: /Users/macbook/코드/파이썬기본/기타/응용 데이터/data / 이름: 너와 파도를 탈 수 있다면\n",
      "경로: /Users/macbook/코드/파이썬기본/기타/응용 데이터/data / 이름: 결백\n",
      "경로: /Users/macbook/코드/파이썬기본/기타/응용 데이터/data / 이름: 울프 콜\n",
      "경로: /Users/macbook/코드/파이썬기본/기타/응용 데이터/data / 이름: 시티 오브 갓\n",
      "경로: /Users/macbook/코드/파이썬기본/기타/응용 데이터/data / 이름: 부활\n",
      "경로: /Users/macbook/코드/파이썬기본/기타/응용 데이터/data / 이름: 엔딩스 비기닝스\n",
      "경로: /Users/macbook/코드/파이썬기본/기타/응용 데이터/data / 이름: 고양이 집사\n",
      "경로: /Users/macbook/코드/파이썬기본/기타/응용 데이터/data / 이름: 비행\n",
      "경로: /Users/macbook/코드/파이썬기본/기타/응용 데이터/data / 이름: 파리의 인어\n",
      "경로: /Users/macbook/코드/파이썬기본/기타/응용 데이터/data / 이름: 위대한 쇼맨\n",
      "경로: /Users/macbook/코드/파이썬기본/기타/응용 데이터/data / 이름: 욕창\n",
      "경로: /Users/macbook/코드/파이썬기본/기타/응용 데이터/data / 이름: 깡패와 소녀\n",
      "경로: /Users/macbook/코드/파이썬기본/기타/응용 데이터/data / 이름: 인비저블 라이프\n",
      "경로: /Users/macbook/코드/파이썬기본/기타/응용 데이터/data / 이름: 비바리움\n",
      "경로: /Users/macbook/코드/파이썬기본/기타/응용 데이터/data / 이름: 헤이트풀8\n",
      "경로: /Users/macbook/코드/파이썬기본/기타/응용 데이터/data / 이름: 미스비헤이비어\n",
      "경로: /Users/macbook/코드/파이썬기본/기타/응용 데이터/data / 이름: clock.html\n",
      "경로: /Users/macbook/코드/파이썬기본/기타/응용 데이터/data / 이름: 안녕, 나의 소울메이트\n",
      "경로: /Users/macbook/코드/파이썬기본/기타/응용 데이터/data / 이름: 베스트 오퍼\n",
      "경로: /Users/macbook/코드/파이썬기본/기타/응용 데이터/data / 이름: 바람의 언덕\n",
      "경로: /Users/macbook/코드/파이썬기본/기타/응용 데이터/data / 이름: 우리집 똥멍청이\n",
      "경로: /Users/macbook/코드/파이썬기본/기타/응용 데이터/data / 이름: 팬데믹\n",
      "경로: /Users/macbook/코드/파이썬기본/기타/응용 데이터/data / 이름: 지저귀는 새는 날지 않는다\n",
      "경로: /Users/macbook/코드/파이썬기본/__pycache__ / 이름: mod2.cpython-36.pyc\n",
      "경로: /Users/macbook/코드/파이썬기본/__pycache__ / 이름: mod1.cpython-36.pyc\n",
      "경로: /Users/macbook/코드/파이썬기본/.ipynb_checkpoints / 이름: 자료형-checkpoint.ipynb\n",
      "경로: /Users/macbook/코드/파이썬기본/.ipynb_checkpoints / 이름: 함수-checkpoint.ipynb\n",
      "경로: /Users/macbook/코드/파이썬기본/.ipynb_checkpoints / 이름: 제어문-checkpoint.ipynb\n",
      "경로: /Users/macbook/코드/summary / 이름: word.xlsx\n",
      "경로: /Users/macbook/코드/summary / 이름: readexel.py\n",
      "경로: /Users/macbook/코드/summary / 이름: 한국어 학습 어휘 목록.txt\n"
     ]
    }
   ],
   "metadata": {}
  },
  {
   "cell_type": "code",
   "execution_count": 57,
   "source": [
    "os.path.basename(\"/Users/macbook/코드/test\")"
   ],
   "outputs": [
    {
     "output_type": "execute_result",
     "data": {
      "text/plain": [
       "'test'"
      ]
     },
     "metadata": {},
     "execution_count": 57
    }
   ],
   "metadata": {}
  },
  {
   "cell_type": "code",
   "execution_count": 58,
   "source": [
    "os.path.basename(\"/Users/macbook/코드/test/python.rtf\")"
   ],
   "outputs": [
    {
     "output_type": "execute_result",
     "data": {
      "text/plain": [
       "'python.rtf'"
      ]
     },
     "metadata": {},
     "execution_count": 58
    }
   ],
   "metadata": {}
  },
  {
   "cell_type": "code",
   "execution_count": 59,
   "source": [
    "os.path.dirname(\"/Users/macbook/코드/test\")"
   ],
   "outputs": [
    {
     "output_type": "execute_result",
     "data": {
      "text/plain": [
       "'/Users/macbook/코드'"
      ]
     },
     "metadata": {},
     "execution_count": 59
    }
   ],
   "metadata": {}
  },
  {
   "cell_type": "code",
   "execution_count": 60,
   "source": [
    "os.path.dirname(\"/Users/macbook/코드/test/python.rtf\")"
   ],
   "outputs": [
    {
     "output_type": "execute_result",
     "data": {
      "text/plain": [
       "'/Users/macbook/코드/test'"
      ]
     },
     "metadata": {},
     "execution_count": 60
    }
   ],
   "metadata": {}
  },
  {
   "cell_type": "code",
   "execution_count": 61,
   "source": [
    "os.path.exists(\"/Users/macbook/코드/test/python.rtf\")"
   ],
   "outputs": [
    {
     "output_type": "execute_result",
     "data": {
      "text/plain": [
       "False"
      ]
     },
     "metadata": {},
     "execution_count": 61
    }
   ],
   "metadata": {}
  },
  {
   "cell_type": "code",
   "execution_count": 62,
   "source": [
    "os.path.exists(\"/Users/macbook/코드/test\")"
   ],
   "outputs": [
    {
     "output_type": "execute_result",
     "data": {
      "text/plain": [
       "True"
      ]
     },
     "metadata": {},
     "execution_count": 62
    }
   ],
   "metadata": {}
  },
  {
   "cell_type": "code",
   "execution_count": 63,
   "source": [
    "os.path.isdir(\"/Users/macbook/코드/test\")"
   ],
   "outputs": [
    {
     "output_type": "execute_result",
     "data": {
      "text/plain": [
       "True"
      ]
     },
     "metadata": {},
     "execution_count": 63
    }
   ],
   "metadata": {}
  },
  {
   "cell_type": "code",
   "execution_count": 64,
   "source": [
    "os.path.isdir(\"/Users/macbook/코드/test/python.rtf\")"
   ],
   "outputs": [
    {
     "output_type": "execute_result",
     "data": {
      "text/plain": [
       "False"
      ]
     },
     "metadata": {},
     "execution_count": 64
    }
   ],
   "metadata": {}
  },
  {
   "cell_type": "code",
   "execution_count": 65,
   "source": [
    "os.path.isfile(\"/Users/macbook/코드/test\")"
   ],
   "outputs": [
    {
     "output_type": "execute_result",
     "data": {
      "text/plain": [
       "False"
      ]
     },
     "metadata": {},
     "execution_count": 65
    }
   ],
   "metadata": {}
  },
  {
   "cell_type": "code",
   "execution_count": 66,
   "source": [
    "os.path.isfile(\"/Users/macbook/코드/test/python.rtf\")"
   ],
   "outputs": [
    {
     "output_type": "execute_result",
     "data": {
      "text/plain": [
       "False"
      ]
     },
     "metadata": {},
     "execution_count": 66
    }
   ],
   "metadata": {}
  },
  {
   "cell_type": "code",
   "execution_count": 67,
   "source": [
    "os.path.isabs(\"/Users/macbook/코드/test/python.rtf\")"
   ],
   "outputs": [
    {
     "output_type": "execute_result",
     "data": {
      "text/plain": [
       "True"
      ]
     },
     "metadata": {},
     "execution_count": 67
    }
   ],
   "metadata": {}
  },
  {
   "cell_type": "code",
   "execution_count": 68,
   "source": [
    "os.path.isabs(\"test\")"
   ],
   "outputs": [
    {
     "output_type": "execute_result",
     "data": {
      "text/plain": [
       "False"
      ]
     },
     "metadata": {},
     "execution_count": 68
    }
   ],
   "metadata": {}
  },
  {
   "cell_type": "code",
   "execution_count": 69,
   "source": [
    "os.path.join(\"/Users/macbook/코드/test\", \"create\")"
   ],
   "outputs": [
    {
     "output_type": "execute_result",
     "data": {
      "text/plain": [
       "'/Users/macbook/코드/test/create'"
      ]
     },
     "metadata": {},
     "execution_count": 69
    }
   ],
   "metadata": {}
  },
  {
   "cell_type": "code",
   "execution_count": 70,
   "source": [
    "os.path.join(\"/Users/macbook/코드/test\", \"create\", \"python.rtf\")"
   ],
   "outputs": [
    {
     "output_type": "execute_result",
     "data": {
      "text/plain": [
       "'/Users/macbook/코드/test/create/python.rtf'"
      ]
     },
     "metadata": {},
     "execution_count": 70
    }
   ],
   "metadata": {}
  },
  {
   "cell_type": "code",
   "execution_count": 71,
   "source": [
    "os.path.split(\"/Users/macbook/코드/test/python.rtf\")"
   ],
   "outputs": [
    {
     "output_type": "execute_result",
     "data": {
      "text/plain": [
       "('/Users/macbook/코드/test', 'python.rtf')"
      ]
     },
     "metadata": {},
     "execution_count": 71
    }
   ],
   "metadata": {}
  },
  {
   "cell_type": "code",
   "execution_count": 72,
   "source": [
    "os.path.split(\"/Users/macbook/Desktop/test\")"
   ],
   "outputs": [
    {
     "output_type": "execute_result",
     "data": {
      "text/plain": [
       "('/Users/macbook/Desktop', 'test')"
      ]
     },
     "metadata": {},
     "execution_count": 72
    }
   ],
   "metadata": {}
  },
  {
   "cell_type": "code",
   "execution_count": 73,
   "source": [
    "os.path.splitdrive(\"/Users/macbook/코드/test/python.rtf\")"
   ],
   "outputs": [
    {
     "output_type": "execute_result",
     "data": {
      "text/plain": [
       "('', '/Users/macbook/코드/test/python.rtf')"
      ]
     },
     "metadata": {},
     "execution_count": 73
    }
   ],
   "metadata": {}
  },
  {
   "cell_type": "code",
   "execution_count": 74,
   "source": [
    "os.path.splitext(\"/Users/macbook/코드/test/python.rtf\")"
   ],
   "outputs": [
    {
     "output_type": "execute_result",
     "data": {
      "text/plain": [
       "('/Users/macbook/코드/test/python', '.rtf')"
      ]
     },
     "metadata": {},
     "execution_count": 74
    }
   ],
   "metadata": {}
  },
  {
   "cell_type": "code",
   "execution_count": 75,
   "source": [
    "os.path.splitext(\"/Users/macbook/코드/test\")"
   ],
   "outputs": [
    {
     "output_type": "execute_result",
     "data": {
      "text/plain": [
       "('/Users/macbook/코드/test', '')"
      ]
     },
     "metadata": {},
     "execution_count": 75
    }
   ],
   "metadata": {}
  }
 ],
 "metadata": {
  "orig_nbformat": 4,
  "language_info": {
   "name": "python",
   "version": "3.6.8",
   "mimetype": "text/x-python",
   "codemirror_mode": {
    "name": "ipython",
    "version": 3
   },
   "pygments_lexer": "ipython3",
   "nbconvert_exporter": "python",
   "file_extension": ".py"
  },
  "kernelspec": {
   "name": "python3",
   "display_name": "Python 3.6.8 64-bit"
  },
  "interpreter": {
   "hash": "4cd7ab41f5fca4b9b44701077e38c5ffd31fe66a6cab21e0214b68d958d0e462"
  }
 },
 "nbformat": 4,
 "nbformat_minor": 2
}