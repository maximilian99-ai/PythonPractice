{
 "cells": [
  {
   "cell_type": "code",
   "execution_count": 1,
   "metadata": {},
   "outputs": [
    {
     "data": {
      "text/plain": [
       "'a#b#c#d'"
      ]
     },
     "execution_count": 1,
     "metadata": {},
     "output_type": "execute_result"
    }
   ],
   "source": [
    "string1 = \"a:b:c:d\"\n",
    "result = string1.split(\":\")\n",
    "\n",
    "string2 = \"#\".join(result)\n",
    "string2"
   ]
  },
  {
   "cell_type": "code",
   "execution_count": 2,
   "metadata": {},
   "outputs": [
    {
     "name": "stdout",
     "output_type": "stream",
     "text": [
      "{'A': 90, 'B': 80, 'C': 70}\n"
     ]
    },
    {
     "data": {
      "text/plain": [
       "70"
      ]
     },
     "execution_count": 2,
     "metadata": {},
     "output_type": "execute_result"
    }
   ],
   "source": [
    "a = {'A':90, 'B':80}\n",
    "a['C'] = 70\n",
    "print(a)\n",
    "a.get('C')"
   ]
  },
  {
   "cell_type": "code",
   "execution_count": 3,
   "metadata": {},
   "outputs": [
    {
     "data": {
      "text/plain": [
       "[1, 2, 3, 4, 5]"
      ]
     },
     "execution_count": 3,
     "metadata": {},
     "output_type": "execute_result"
    }
   ],
   "source": [
    "a = [1, 2, 3]\n",
    "a.extend([4, 5]) # a = a + [4,5]일 때도 결과는 동일\n",
    "a"
   ]
  },
  {
   "cell_type": "code",
   "execution_count": 4,
   "metadata": {},
   "outputs": [
    {
     "name": "stdout",
     "output_type": "stream",
     "text": [
      "481\n"
     ]
    }
   ],
   "source": [
    "A = [20, 55, 67, 82, 45, 33, 90, 87, 100, 25]\n",
    "s = 0\n",
    "\n",
    "for n in A: # while A로 해도 됨\n",
    "  if n >= 50:\n",
    "    s += n\n",
    "print(s)"
   ]
  },
  {
   "cell_type": "code",
   "execution_count": 5,
   "metadata": {},
   "outputs": [
    {
     "name": "stdout",
     "output_type": "stream",
     "text": [
      "0\n",
      "1\n",
      "1\n",
      "2\n",
      "3\n",
      "5\n",
      "8\n",
      "13\n",
      "21\n",
      "34\n"
     ]
    }
   ],
   "source": [
    "def fibonacci(n):\n",
    "  if n == 0 : return 0\n",
    "  if n == 1 : return 1\n",
    "\n",
    "  return fibonacci(n-2) + fibonacci(n-1)\n",
    "\n",
    "for i in range(10):\n",
    "  print(fibonacci(i))"
   ]
  },
  {
   "cell_type": "code",
   "execution_count": 6,
   "metadata": {},
   "outputs": [
    {
     "name": "stdout",
     "output_type": "stream",
     "text": [
      "168\n"
     ]
    }
   ],
   "source": [
    "user_input = input(\"숫자를 입력하세요: \")\n",
    "numbers = user_input.split(\",\")\n",
    "total = 0\n",
    "\n",
    "for n in numbers:\n",
    "  total += int(n)\n",
    "print(total)"
   ]
  },
  {
   "cell_type": "code",
   "execution_count": 7,
   "metadata": {},
   "outputs": [
    {
     "name": "stdout",
     "output_type": "stream",
     "text": [
      "2\n",
      "4\n",
      "6\n",
      "8\n",
      "10\n",
      "12\n",
      "14\n",
      "16\n",
      "18\n"
     ]
    }
   ],
   "source": [
    "user_input = input(\"구구단을 출력할 숫자를 입력하세요(2~9): \")\n",
    "\n",
    "for n in range(1, 10):\n",
    "  result = int(user_input) * n\n",
    "  print(result)"
   ]
  },
  {
   "cell_type": "code",
   "execution_count": 8,
   "metadata": {},
   "outputs": [],
   "source": [
    "with open(\"abc.txt\", \"r\") as f:\n",
    "  modify = f.readlines() # 모든 라인을 읽음\n",
    "  f.close()\n",
    "\n",
    "modify = modify.__reversed__()\n",
    "\n",
    "with open(\"abc.txt\", \"w\") as f:\n",
    "  for line in modify:\n",
    "    line = line.strip() # 포함되어 있는 줄 바꿈 문자 제거\n",
    "    f.write(line)\n",
    "    f.write('\\n')\n",
    "  f.close()"
   ]
  },
  {
   "cell_type": "code",
   "execution_count": 9,
   "metadata": {},
   "outputs": [],
   "source": [
    "with open(\"sample.txt\", \"r\") as f:\n",
    "  total = f.readlines()\n",
    "  f.close()\n",
    "\n",
    "for line in total:\n",
    "  score = int(line) # 줄에 적힌 점수를 숫자형으로 변환\n",
    "  s += score\n",
    "\n",
    "m = s / len(total)\n",
    "\n",
    "with open(\"result.txt\", \"w\") as f:\n",
    "  f.write(str(m))\n",
    "  f.close()"
   ]
  },
  {
   "cell_type": "code",
   "execution_count": 10,
   "metadata": {},
   "outputs": [
    {
     "name": "stdout",
     "output_type": "stream",
     "text": [
      "15\n",
      "3.0\n",
      "40\n",
      "8.0\n"
     ]
    }
   ],
   "source": [
    "class Calculator:\n",
    "  def __init__(self, value):\n",
    "    self.value = value\n",
    "\n",
    "  def sum(self):\n",
    "    result = 0\n",
    "    for n in self.value:\n",
    "      result += n\n",
    "    return result\n",
    "\n",
    "  def avg(self):\n",
    "    total = self.sum()\n",
    "    return total / len(self.value)\n",
    "\n",
    "cal1 = Calculator([1,2,3,4,5]) \n",
    "print(cal1.sum())\n",
    "print(cal1.avg())\n",
    "\n",
    "cal2 = Calculator([6,7,8,9,10]) \n",
    "print(cal2.sum())\n",
    "print(cal2.avg())"
   ]
  },
  {
   "cell_type": "code",
   "execution_count": 11,
   "metadata": {},
   "outputs": [],
   "source": [
    "# sys 모듈 사용하기\n",
    "import sys\n",
    "sys.path.append(\"/Users/macbook/코드/test\")\n",
    "import mymod\n",
    "\n",
    "# PYTHONPATH 환경 변수 사용하기\n",
    "# set PYTHONPATH=/Users/macbook/코드/test\n",
    "# python\n",
    "# import mymod\n",
    "\n",
    "# 현재 디렉터리 사용하기\n",
    "# cd /Users/macbook/코드/test\n",
    "# python\n",
    "# import mymod"
   ]
  },
  {
   "cell_type": "code",
   "execution_count": 12,
   "metadata": {},
   "outputs": [
    {
     "name": "stdout",
     "output_type": "stream",
     "text": [
      "7\n"
     ]
    }
   ],
   "source": [
    "result = 0\n",
    "\n",
    "try:\n",
    "    [1, 2, 3][3]\n",
    "    \"a\"+1\n",
    "    4 / 0\n",
    "    \n",
    "except TypeError:\n",
    "    result += 1\n",
    "except ZeroDivisionError:\n",
    "    result += 2\n",
    "except IndexError:\n",
    "    result += 3\n",
    "finally:\n",
    "    result += 4\n",
    "\n",
    "print(result)"
   ]
  },
  {
   "cell_type": "code",
   "execution_count": 13,
   "metadata": {},
   "outputs": [
    {
     "name": "stdout",
     "output_type": "stream",
     "text": [
      "454*67-9-3\n"
     ]
    }
   ],
   "source": [
    "data = \"4546793\"\n",
    "numbers = list(map(int, data))   # 숫자 문자열을 숫자 리스트로 변경\n",
    "result = []\n",
    "\n",
    "for i, num in enumerate(numbers):\n",
    "    result.append(str(num))\n",
    "    if i < len(numbers)-1:                   # 다음 수가 있다면\n",
    "        is_odd = num % 2 == 1                # 현재 수가 홀수\n",
    "        is_next_odd = numbers[i+1] % 2 == 1  # 다음 수가 홀수\n",
    "        if is_odd and is_next_odd:           # 연속 홀수\n",
    "            result.append(\"-\")\n",
    "        elif not is_odd and not is_next_odd: # 연속 짝수\n",
    "            result.append(\"*\")\n",
    "\n",
    "print(\"\".join(result))"
   ]
  },
  {
   "cell_type": "code",
   "execution_count": 14,
   "metadata": {},
   "outputs": [
    {
     "name": "stdout",
     "output_type": "stream",
     "text": [
      "a3b2c6a1\n"
     ]
    }
   ],
   "source": [
    "def compress_string(s):\n",
    "    _c = \"\"\n",
    "    cnt = 0\n",
    "    result = \"\"\n",
    "    for c in s:\n",
    "        if c!=_c:\n",
    "            _c = c\n",
    "            if cnt: result += str(cnt)\n",
    "            result += c\n",
    "            cnt = 1\n",
    "        else:\n",
    "            cnt +=1\n",
    "    if cnt: result += str(cnt)\n",
    "    return result\n",
    "\n",
    "print(compress_string(\"aaabbcccccca\"))  # a3b2c6a1 출력"
   ]
  },
  {
   "cell_type": "code",
   "execution_count": 15,
   "metadata": {},
   "outputs": [
    {
     "name": "stdout",
     "output_type": "stream",
     "text": [
      "True\n",
      "False\n",
      "False\n",
      "True\n",
      "False\n"
     ]
    }
   ],
   "source": [
    "def chkDupNum(s):\n",
    "    result = []\n",
    "    for num in s:\n",
    "        if num not in result:\n",
    "            result.append(num)\n",
    "        else:\n",
    "            return False\n",
    "    return len(result) == 10\n",
    "\n",
    "print(chkDupNum(\"0123456789\"))      # True 리턴\n",
    "print(chkDupNum(\"01234\"))           # False 리턴\n",
    "print(chkDupNum(\"01234567890\"))     # False 리턴\n",
    "print(chkDupNum(\"6789012345\"))      # True 리턴\n",
    "print(chkDupNum(\"012322456789\"))    # False 리턴"
   ]
  },
  {
   "cell_type": "code",
   "execution_count": 16,
   "metadata": {},
   "outputs": [
    {
     "name": "stdout",
     "output_type": "stream",
     "text": [
      "HE SLEEPS EARLY \n"
     ]
    }
   ],
   "source": [
    "dic = {\n",
    "    '.-':'A','-...':'B','-.-.':'C','-..':'D','.':'E','..-.':'F',\n",
    "    '--.':'G','....':'H','..':'I','.---':'J','-.-':'K','.-..':'L',\n",
    "    '--':'M','-.':'N','---':'O','.--.':'P','--.-':'Q','.-.':'R',\n",
    "    '...':'S','-':'T','..-':'U','...-':'V','.--':'W','-..-':'X',\n",
    "    '-.--':'Y','--..':'Z'\n",
    "}\n",
    "\n",
    "def morse(src):\n",
    "    result = []\n",
    "    for word in src.split(\"  \"):\n",
    "        for char in word.split(\" \"):\n",
    "            result.append(dic[char])\n",
    "        result.append(\" \")\n",
    "    return \"\".join(result)\n",
    "\n",
    "\n",
    "print(morse('.... .  ... .-.. . . .--. ...  . .- .-. .-.. -.--'))"
   ]
  },
  {
   "cell_type": "code",
   "execution_count": 17,
   "metadata": {},
   "outputs": [
    {
     "name": "stdout",
     "output_type": "stream",
     "text": [
      "None\n",
      "<_sre.SRE_Match object; span=(0, 6), match='a....b'>\n",
      "None\n",
      "None\n"
     ]
    }
   ],
   "source": [
    "import re\n",
    "\n",
    "p = re.compile(\"a[.]{3,}b\")\n",
    "\n",
    "print(p.match(\"acccb\"))    # None\n",
    "print(p.match(\"a....b\"))   # 매치 객체 출력\n",
    "print(p.match(\"aaab\"))     # None\n",
    "print(p.match(\"a.cccb\"))   # None"
   ]
  },
  {
   "cell_type": "code",
   "execution_count": 18,
   "metadata": {},
   "outputs": [
    {
     "name": "stdout",
     "output_type": "stream",
     "text": [
      "10\n"
     ]
    }
   ],
   "source": [
    "import re\n",
    "\n",
    "p = re.compile('[a-z]+')\n",
    "m = p.search(\"5 python\")\n",
    "print(m.start() + m.end())  # 10 출력"
   ]
  },
  {
   "cell_type": "code",
   "execution_count": 19,
   "metadata": {},
   "outputs": [
    {
     "name": "stdout",
     "output_type": "stream",
     "text": [
      "\n",
      "park 010-9999-####\n",
      "kim 010-9909-####\n",
      "lee 010-8789-####\n",
      "\n"
     ]
    }
   ],
   "source": [
    "pat = re.compile(\"\\d{3}[-]\\d{4}[-]\\d{4}\")\n",
    "\n",
    "pat = re.compile(\"(\\d{3}[-]\\d{4})[-]\\d{4}\")\n",
    "\n",
    "\n",
    "import re\n",
    "\n",
    "s = \"\"\"\n",
    "park 010-9999-9988\n",
    "kim 010-9909-7789\n",
    "lee 010-8789-7768\n",
    "\"\"\"\n",
    "\n",
    "pat = re.compile(\"(\\d{3}[-]\\d{4})[-]\\d{4}\")\n",
    "result = pat.sub(\"\\g<1>-####\", s)\n",
    "\n",
    "print(result)"
   ]
  },
  {
   "cell_type": "code",
   "execution_count": 20,
   "metadata": {},
   "outputs": [
    {
     "name": "stdout",
     "output_type": "stream",
     "text": [
      "<_sre.SRE_Match object; span=(0, 16), match='pahkey@gmail.com'>\n",
      "<_sre.SRE_Match object; span=(0, 12), match='kim@daum.net'>\n",
      "None\n"
     ]
    }
   ],
   "source": [
    "pat = re.compile(\".*[@].*[.](?=com$|net$).*$\")\n",
    "\n",
    "import re\n",
    "\n",
    "pat = re.compile(\".*[@].*[.](?=com$|net$).*$\")\n",
    "\n",
    "print(pat.match(\"pahkey@gmail.com\"))\n",
    "print(pat.match(\"kim@daum.net\"))\n",
    "print(pat.match(\"lee@myhome.co.kr\"))"
   ]
  }
 ],
 "metadata": {
  "interpreter": {
   "hash": "4cd7ab41f5fca4b9b44701077e38c5ffd31fe66a6cab21e0214b68d958d0e462"
  },
  "kernelspec": {
   "display_name": "Python 3.6.8 64-bit",
   "name": "python3"
  },
  "language_info": {
   "codemirror_mode": {
    "name": "ipython",
    "version": 3
   },
   "file_extension": ".py",
   "mimetype": "text/x-python",
   "name": "python",
   "nbconvert_exporter": "python",
   "pygments_lexer": "ipython3",
   "version": "3.6.8"
  },
  "orig_nbformat": 4
 },
 "nbformat": 4,
 "nbformat_minor": 2
}
