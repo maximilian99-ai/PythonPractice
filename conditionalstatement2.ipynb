{
 "cells": [
  {
   "cell_type": "code",
   "execution_count": 1,
   "metadata": {},
   "outputs": [
    {
     "name": "stdout",
     "output_type": "stream",
     "text": [
      "6\n"
     ]
    }
   ],
   "source": [
    "# 사용자로부터 세 개의 숫자를 입력받아 가장 작은 숫자를 출력\n",
    "digit1 = input(\"1st number: \")\n",
    "digit2 = input(\"2nd number: \")\n",
    "digit3 = input(\"3rd number: \")\n",
    "\n",
    "result1 = int(digit1)\n",
    "result2 = int(digit2)\n",
    "result3 = int(digit3)\n",
    "\n",
    "if result1 < result2 < result3 and result1 < result3 < result2:\n",
    "  print(result1)\n",
    "elif result2 < result1 < result3 and result2 < result3 < result1:\n",
    "  print(result2)\n",
    "else:\n",
    "  print(result3)"
   ]
  },
  {
   "cell_type": "code",
   "execution_count": 2,
   "metadata": {},
   "outputs": [
    {
     "name": "stdout",
     "output_type": "stream",
     "text": [
      "B\n"
     ]
    }
   ],
   "source": [
    "# 사용자로부터 점수를 입력받은 후 등급을 출력\n",
    "digit = input(\"your score: \")\n",
    "score = int(digit)\n",
    "\n",
    "if 100 >= score > 80:\n",
    "  print(\"A\")\n",
    "elif score > 60:\n",
    "  print(\"B\")\n",
    "else:\n",
    "  print(\"C\")"
   ]
  },
  {
   "cell_type": "code",
   "execution_count": 3,
   "metadata": {},
   "outputs": [
    {
     "name": "stdout",
     "output_type": "stream",
     "text": [
      "80\n"
     ]
    }
   ],
   "source": [
    "# 데이터 구조(리스트). 사용자로부터 주민등록번호를 입력받아 출생연도를 출력\n",
    "pin = \"800101-1231231\"\n",
    "result = pin[:2]\n",
    "print(result)"
   ]
  },
  {
   "cell_type": "code",
   "execution_count": 4,
   "metadata": {},
   "outputs": [
    {
     "name": "stdout",
     "output_type": "stream",
     "text": [
      "Man\n"
     ]
    }
   ],
   "source": [
    "# 데이터 구조(리스트). 사용자로부터 주민등록번호를 입력받아 뒷자리 맨 앞의 숫자를 출력\n",
    "gender = pin[7]\n",
    "\n",
    "if gender == 1 or 3:\n",
    "  print(\"Man\")\n",
    "elif gender == 2 or 4:\n",
    "  print(\"Woman\")"
   ]
  },
  {
   "cell_type": "code",
   "execution_count": 5,
   "metadata": {},
   "outputs": [
    {
     "name": "stdout",
     "output_type": "stream",
     "text": [
      "Man\n"
     ]
    }
   ],
   "source": [
    "# 데이터 구조(리스트). 사용자로부터 주민등록번호를 입력받아 성별을 남성 또는 여성으로 출력\n",
    "digit = input(\"your personal id: \")\n",
    "\n",
    "result = str(digit[7])\n",
    "\n",
    "if gender == 1 or 3:\n",
    "  print(\"Man\")\n",
    "elif gender == 2 or 4:\n",
    "  print(\"Woman\")"
   ]
  }
 ],
 "metadata": {
  "interpreter": {
   "hash": "949777d72b0d2535278d3dc13498b2535136f6dfe0678499012e853ee9abcab1"
  },
  "kernelspec": {
   "display_name": "Python 3.6.8 64-bit",
   "language": "python",
   "name": "python3"
  },
  "language_info": {
   "codemirror_mode": {
    "name": "ipython",
    "version": 3
   },
   "file_extension": ".py",
   "mimetype": "text/x-python",
   "name": "python",
   "nbconvert_exporter": "python",
   "pygments_lexer": "ipython3",
   "version": "3.6.8"
  },
  "orig_nbformat": 4
 },
 "nbformat": 4,
 "nbformat_minor": 2
}
