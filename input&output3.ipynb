{
 "cells": [
  {
   "cell_type": "code",
   "execution_count": 2,
   "metadata": {},
   "outputs": [
    {
     "name": "stdout",
     "output_type": "stream",
     "text": [
      "4 + 4 = 8\n",
      "4 - 4 = 0\n",
      "4 * 4 = 16\n",
      "4 / 4 = 1.0\n",
      "4 // 4 = 1\n",
      "4 % 4 = 0\n"
     ]
    }
   ],
   "source": [
    "# 입력과 출력(사용자로부터 두 숫자를 입력받은 후 더한 값, 뺀 값, 곱한 값, 나눈 값, 나눈 몫 출력)\n",
    "\n",
    "input1 = input(\"input a first decimal number: \")\n",
    "input2 = input(\"input a second decimal number: \")\n",
    "\n",
    "result1 = int(input1) + int(input2)\n",
    "result2 = int(input1) - int(input2)\n",
    "result3 = int(input1) * int(input2)\n",
    "result4 = int(input1) / int(input2)\n",
    "result5 = int(input1) // int(input2)\n",
    "result6 = int(input1) % int(input2)\n",
    "\n",
    "print(int(input1), \"+\", int(input2), \"=\", result1)\n",
    "print(int(input1), \"-\", int(input2), \"=\", result2)\n",
    "print(int(input1), \"*\", int(input2), \"=\", result3)\n",
    "print(int(input1), \"/\", int(input2), \"=\", result4)\n",
    "print(int(input1), \"//\", int(input2), \"=\", result5)\n",
    "print(int(input1), \"%\", int(input2), \"=\", result6)"
   ]
  },
  {
   "cell_type": "code",
   "execution_count": 3,
   "metadata": {},
   "outputs": [
    {
     "name": "stdout",
     "output_type": "stream",
     "text": [
      "5 / 4 = 1.2\n"
     ]
    }
   ],
   "source": [
    "# 사용자로부터 두 숫자를 입력받아서 나눈 값을 format()를 사용하여 소숫점 첫번째 자리까지만 출력\n",
    "\n",
    "input1 = input(\"input a first decimal number: \")\n",
    "input2 = input(\"input a second decimal number: \")\n",
    "\n",
    "result = int(input1) / int(input2)\n",
    "\n",
    "result = \"{0:0.1f}\".format(result)\n",
    "\n",
    "print(int(input1), \"/\", int(input2), \"=\", result)"
   ]
  }
 ],
 "metadata": {
  "interpreter": {
   "hash": "4cd7ab41f5fca4b9b44701077e38c5ffd31fe66a6cab21e0214b68d958d0e462"
  },
  "kernelspec": {
   "display_name": "Python 3.6.8 64-bit",
   "name": "python3"
  },
  "language_info": {
   "codemirror_mode": {
    "name": "ipython",
    "version": 3
   },
   "file_extension": ".py",
   "mimetype": "text/x-python",
   "name": "python",
   "nbconvert_exporter": "python",
   "pygments_lexer": "ipython3",
   "version": "3.6.8"
  },
  "orig_nbformat": 4
 },
 "nbformat": 4,
 "nbformat_minor": 2
}
