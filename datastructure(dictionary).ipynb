{
 "cells": [
  {
   "cell_type": "code",
   "execution_count": 1,
   "metadata": {},
   "outputs": [
    {
     "name": "stdout",
     "output_type": "stream",
     "text": [
      "['environment', 'company', 'government', 'face']\n",
      "['환경', '회사', '정부, 정치', '얼굴']\n"
     ]
    }
   ],
   "source": [
    "# 다음 영어 사전 데이터를 딕셔너리 변수로 만들고 딕셔너리 변수의 key인 영어 단어, value인 의미만을 가진 리스트 변수를 각각 만들고 두 리스트 변수를\n",
    "# 출력\n",
    "dictdata = {'environment': '환경', 'company': '회사', 'government': '정부, 정치', 'face': '얼굴'}\n",
    "\n",
    "listdata1 = list(dictdata.keys()) # [data for data in dictdata.keys()]\n",
    "listdata2 = list(dictdata.values()) # [data for data in dictdata.values()]\n",
    "\n",
    "print(listdata1)\n",
    "print(listdata2)"
   ]
  },
  {
   "cell_type": "code",
   "execution_count": 2,
   "metadata": {},
   "outputs": [
    {
     "name": "stdout",
     "output_type": "stream",
     "text": [
      "environment : 환경\n",
      "company : 회사\n",
      "government : 정부, 정치\n",
      "face : 얼굴\n"
     ]
    }
   ],
   "source": [
    "# 다음 영어 사전 데이터를 딕셔너리 변수로 만들어서 출력\n",
    "for data in dictdata.keys():\n",
    "  print(data, \":\", dictdata[data])"
   ]
  },
  {
   "cell_type": "code",
   "execution_count": 3,
   "metadata": {},
   "outputs": [
    {
     "name": "stdout",
     "output_type": "stream",
     "text": [
      "environment\n",
      "government\n",
      "face\n"
     ]
    }
   ],
   "source": [
    "# 다음 영어 사전 데이터를 딕셔너리 변수로 만들고 외움 표시가 X인 영어단어만 출력\n",
    "dictdata = {'environment': ['환경', 'X'], 'company': ['회사', 'O'], 'government': ['정부, 정치', 'X'],\n",
    "'face': ['얼굴', 'X']}\n",
    "\n",
    "for data in dictdata.keys():\n",
    "  if dictdata[data][1] == 'X':\n",
    "    print(data)"
   ]
  },
  {
   "cell_type": "code",
   "execution_count": 4,
   "metadata": {},
   "outputs": [
    {
     "name": "stdout",
     "output_type": "stream",
     "text": [
      "{'enviroment': '환경', 'government': '정부, 정치', 'company': '회사', 'face': '얼굴', 'apple': '사과'}\n"
     ]
    }
   ],
   "source": [
    "# 다음 dict_all, dict2, dict3 딕셔너리 변수가 있을 때 dict2와 dict3 두 데이터를 dict_all 딕셔너리 변수에 추가한 후, dict_all 변수를\n",
    "# 출력\n",
    "dict_all = {'enviroment': '환경', 'government':'정부, 정치'}\n",
    "dict2 = {'company': '회사', 'face': '얼굴'}\n",
    "dict3 = {'apple': '사과'}\n",
    "\n",
    "for data in dict2.keys():\n",
    "  dict_all[data] = dict2[data]\n",
    "for data in dict3.keys():\n",
    "  dict_all[data] = dict3[data]\n",
    "\n",
    "print(dict_all)"
   ]
  },
  {
   "cell_type": "code",
   "execution_count": 5,
   "metadata": {},
   "outputs": [
    {
     "name": "stdout",
     "output_type": "stream",
     "text": [
      "https://instagram.com/madongseok\n",
      "마동석\n",
      "3\n"
     ]
    }
   ],
   "source": [
    "# 다음 actor_info 딕셔너리 변수를 만들고 홈페이지, 배우이름, 최근 출연 영화 갯수를 출력\n",
    "actor_info = {'actor_details':{'생년월일': '1971-03-01',\n",
    "                    '성별': '남',\n",
    "                    '직업': '배우',\n",
    "                    '홈페이지': 'https://instagram.com/madongseok'},\n",
    "'actor_name': '마동석',\n",
    "'actor_rate': 59361,\n",
    "'date': '2017-10',\n",
    "'movie_list': ['범죄도시', '부라더', '부산행']}\n",
    "\n",
    "print(actor_info['actor_details']['홈페이지'])\n",
    "print(actor_info['actor_name'])\n",
    "print(len(actor_info['movie_list']))"
   ]
  },
  {
   "cell_type": "code",
   "execution_count": 6,
   "metadata": {},
   "outputs": [
    {
     "name": "stdout",
     "output_type": "stream",
     "text": [
      "[1, 2, 3, 4, 5, 6, 7, 8, 9, 10]\n"
     ]
    }
   ],
   "source": [
    "# 데이터 구조(집합). number_list가 다음과 같은 리스트일 때 중복 숫자를 제거한 리스트를 만들고 출력\n",
    "number_list = [5, 1, 2, 2, 3, 3, 4, 5, 5, 6, 7, 8, 9, 9, 10, 10]\n",
    "\n",
    "number_list = set(number_list)\n",
    "print(list(number_list))"
   ]
  }
 ],
 "metadata": {
  "interpreter": {
   "hash": "aee8b7b246df8f9039afb4144a1f6fd8d2ca17a180786b69acc140d282b71a49"
  },
  "kernelspec": {
   "display_name": "Python 3.6.8 64-bit",
   "language": "python",
   "name": "python3"
  },
  "language_info": {
   "codemirror_mode": {
    "name": "ipython",
    "version": 3
   },
   "file_extension": ".py",
   "mimetype": "text/x-python",
   "name": "python",
   "nbconvert_exporter": "python",
   "pygments_lexer": "ipython3",
   "version": "3.6.8"
  },
  "orig_nbformat": 4
 },
 "nbformat": 4,
 "nbformat_minor": 2
}
